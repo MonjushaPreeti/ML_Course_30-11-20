{
 "cells": [
  {
   "cell_type": "markdown",
   "metadata": {},
   "source": [
    "# Project\n",
    "\n",
    "In this project, our aim is to building a model for predicting churn. Churn is the percentage of customers that stopped using your company's product or service during a certain time frame. Thus, in the given dataset, our label will be `Churn` column.\n",
    "\n",
    "## Steps\n",
    "- Read the `churn.csv` file and describe it.\n",
    "- Make at least 4 different analysis on Exploratory Data Analysis section.\n",
    "- Pre-process the dataset to get ready for ML application. (Check missing data and handle them, can we need to do scaling or feature extraction etc.)\n",
    "- Define appropriate evaluation metric for our case (classification).\n",
    "- Train and evaluate Logistic Regression, Decision Trees and one other appropriate algorithm which you can choose from scikit-learn library.\n",
    "- Is there any overfitting and underfitting? Interpret your results and try to overcome if there is any problem in a new section.\n",
    "- Create confusion metrics for each algorithm and display Accuracy, Recall, Precision and F1-Score values.\n",
    "- Analyse and compare results of 3 algorithms.\n",
    "- Select best performing model based on evaluation metric you chose on test dataset.\n",
    "\n",
    "\n",
    "Good luck :)"
   ]
  },
  {
   "cell_type": "markdown",
   "metadata": {},
   "source": [
    "<h2>Neelima Monjusha Preeti</h2>\n",
    "<h2>monjusha.stu2017@juniv.edu</h2>\n",
    "<h4>Deadline: 08/12/2020 9:00 GMT + 3</h4>"
   ]
  },
  {
   "cell_type": "markdown",
   "metadata": {},
   "source": [
    "# Data"
   ]
  },
  {
   "cell_type": "code",
   "execution_count": 1,
   "metadata": {},
   "outputs": [],
   "source": [
    "import pandas as pd\n",
    "import seaborn as sns\n",
    "import numpy as np\n",
    "import matplotlib.pyplot as plt"
   ]
  },
  {
   "cell_type": "code",
   "execution_count": 2,
   "metadata": {},
   "outputs": [],
   "source": [
    "data = pd.read_csv(\"churn.csv\")"
   ]
  },
  {
   "cell_type": "code",
   "execution_count": 3,
   "metadata": {},
   "outputs": [],
   "source": [
    "x = data[data.columns[data.columns.isin(['AccountWeeks', 'ContractRenewal', 'DataPlan','DataUsage', 'CustServCalls', 'DayCalls', 'MonthlyCharge', 'OverageFee', 'RoamMins'])]].copy()\n",
    "y = data['Churn'].copy()"
   ]
  },
  {
   "cell_type": "code",
   "execution_count": 4,
   "metadata": {},
   "outputs": [
    {
     "data": {
      "text/plain": [
       "Index(['AccountWeeks', 'ContractRenewal', 'DataPlan', 'DataUsage',\n",
       "       'CustServCalls', 'DayCalls', 'MonthlyCharge', 'OverageFee', 'RoamMins'],\n",
       "      dtype='object')"
      ]
     },
     "execution_count": 4,
     "metadata": {},
     "output_type": "execute_result"
    }
   ],
   "source": [
    "x.columns"
   ]
  },
  {
   "cell_type": "code",
   "execution_count": 5,
   "metadata": {},
   "outputs": [
    {
     "data": {
      "text/html": [
       "<div>\n",
       "<style scoped>\n",
       "    .dataframe tbody tr th:only-of-type {\n",
       "        vertical-align: middle;\n",
       "    }\n",
       "\n",
       "    .dataframe tbody tr th {\n",
       "        vertical-align: top;\n",
       "    }\n",
       "\n",
       "    .dataframe thead th {\n",
       "        text-align: right;\n",
       "    }\n",
       "</style>\n",
       "<table border=\"1\" class=\"dataframe\">\n",
       "  <thead>\n",
       "    <tr style=\"text-align: right;\">\n",
       "      <th></th>\n",
       "      <th>Churn</th>\n",
       "      <th>AccountWeeks</th>\n",
       "      <th>ContractRenewal</th>\n",
       "      <th>DataPlan</th>\n",
       "      <th>DataUsage</th>\n",
       "      <th>CustServCalls</th>\n",
       "      <th>DayMins</th>\n",
       "      <th>DayCalls</th>\n",
       "      <th>MonthlyCharge</th>\n",
       "      <th>OverageFee</th>\n",
       "      <th>RoamMins</th>\n",
       "    </tr>\n",
       "  </thead>\n",
       "  <tbody>\n",
       "    <tr>\n",
       "      <th>0</th>\n",
       "      <td>0</td>\n",
       "      <td>128</td>\n",
       "      <td>1</td>\n",
       "      <td>1</td>\n",
       "      <td>2.70</td>\n",
       "      <td>1</td>\n",
       "      <td>265.1</td>\n",
       "      <td>110</td>\n",
       "      <td>89.0</td>\n",
       "      <td>9.87</td>\n",
       "      <td>10.0</td>\n",
       "    </tr>\n",
       "    <tr>\n",
       "      <th>1</th>\n",
       "      <td>0</td>\n",
       "      <td>107</td>\n",
       "      <td>1</td>\n",
       "      <td>1</td>\n",
       "      <td>3.70</td>\n",
       "      <td>1</td>\n",
       "      <td>161.6</td>\n",
       "      <td>123</td>\n",
       "      <td>82.0</td>\n",
       "      <td>9.78</td>\n",
       "      <td>13.7</td>\n",
       "    </tr>\n",
       "    <tr>\n",
       "      <th>2</th>\n",
       "      <td>0</td>\n",
       "      <td>137</td>\n",
       "      <td>1</td>\n",
       "      <td>0</td>\n",
       "      <td>0.00</td>\n",
       "      <td>0</td>\n",
       "      <td>243.4</td>\n",
       "      <td>114</td>\n",
       "      <td>52.0</td>\n",
       "      <td>6.06</td>\n",
       "      <td>12.2</td>\n",
       "    </tr>\n",
       "    <tr>\n",
       "      <th>3</th>\n",
       "      <td>0</td>\n",
       "      <td>84</td>\n",
       "      <td>0</td>\n",
       "      <td>0</td>\n",
       "      <td>0.00</td>\n",
       "      <td>2</td>\n",
       "      <td>299.4</td>\n",
       "      <td>71</td>\n",
       "      <td>57.0</td>\n",
       "      <td>3.10</td>\n",
       "      <td>6.6</td>\n",
       "    </tr>\n",
       "    <tr>\n",
       "      <th>4</th>\n",
       "      <td>0</td>\n",
       "      <td>75</td>\n",
       "      <td>0</td>\n",
       "      <td>0</td>\n",
       "      <td>0.00</td>\n",
       "      <td>3</td>\n",
       "      <td>166.7</td>\n",
       "      <td>113</td>\n",
       "      <td>41.0</td>\n",
       "      <td>7.42</td>\n",
       "      <td>10.1</td>\n",
       "    </tr>\n",
       "    <tr>\n",
       "      <th>5</th>\n",
       "      <td>0</td>\n",
       "      <td>118</td>\n",
       "      <td>0</td>\n",
       "      <td>0</td>\n",
       "      <td>0.00</td>\n",
       "      <td>0</td>\n",
       "      <td>223.4</td>\n",
       "      <td>98</td>\n",
       "      <td>57.0</td>\n",
       "      <td>11.03</td>\n",
       "      <td>6.3</td>\n",
       "    </tr>\n",
       "    <tr>\n",
       "      <th>6</th>\n",
       "      <td>0</td>\n",
       "      <td>121</td>\n",
       "      <td>1</td>\n",
       "      <td>1</td>\n",
       "      <td>2.03</td>\n",
       "      <td>3</td>\n",
       "      <td>218.2</td>\n",
       "      <td>88</td>\n",
       "      <td>87.3</td>\n",
       "      <td>17.43</td>\n",
       "      <td>7.5</td>\n",
       "    </tr>\n",
       "    <tr>\n",
       "      <th>7</th>\n",
       "      <td>0</td>\n",
       "      <td>147</td>\n",
       "      <td>0</td>\n",
       "      <td>0</td>\n",
       "      <td>0.00</td>\n",
       "      <td>0</td>\n",
       "      <td>157.0</td>\n",
       "      <td>79</td>\n",
       "      <td>36.0</td>\n",
       "      <td>5.16</td>\n",
       "      <td>7.1</td>\n",
       "    </tr>\n",
       "    <tr>\n",
       "      <th>8</th>\n",
       "      <td>0</td>\n",
       "      <td>117</td>\n",
       "      <td>1</td>\n",
       "      <td>0</td>\n",
       "      <td>0.19</td>\n",
       "      <td>1</td>\n",
       "      <td>184.5</td>\n",
       "      <td>97</td>\n",
       "      <td>63.9</td>\n",
       "      <td>17.58</td>\n",
       "      <td>8.7</td>\n",
       "    </tr>\n",
       "    <tr>\n",
       "      <th>9</th>\n",
       "      <td>0</td>\n",
       "      <td>141</td>\n",
       "      <td>0</td>\n",
       "      <td>1</td>\n",
       "      <td>3.02</td>\n",
       "      <td>0</td>\n",
       "      <td>258.6</td>\n",
       "      <td>84</td>\n",
       "      <td>93.2</td>\n",
       "      <td>11.10</td>\n",
       "      <td>11.2</td>\n",
       "    </tr>\n",
       "  </tbody>\n",
       "</table>\n",
       "</div>"
      ],
      "text/plain": [
       "   Churn  AccountWeeks  ContractRenewal  DataPlan  DataUsage  CustServCalls  \\\n",
       "0      0           128                1         1       2.70              1   \n",
       "1      0           107                1         1       3.70              1   \n",
       "2      0           137                1         0       0.00              0   \n",
       "3      0            84                0         0       0.00              2   \n",
       "4      0            75                0         0       0.00              3   \n",
       "5      0           118                0         0       0.00              0   \n",
       "6      0           121                1         1       2.03              3   \n",
       "7      0           147                0         0       0.00              0   \n",
       "8      0           117                1         0       0.19              1   \n",
       "9      0           141                0         1       3.02              0   \n",
       "\n",
       "   DayMins  DayCalls  MonthlyCharge  OverageFee  RoamMins  \n",
       "0    265.1       110           89.0        9.87      10.0  \n",
       "1    161.6       123           82.0        9.78      13.7  \n",
       "2    243.4       114           52.0        6.06      12.2  \n",
       "3    299.4        71           57.0        3.10       6.6  \n",
       "4    166.7       113           41.0        7.42      10.1  \n",
       "5    223.4        98           57.0       11.03       6.3  \n",
       "6    218.2        88           87.3       17.43       7.5  \n",
       "7    157.0        79           36.0        5.16       7.1  \n",
       "8    184.5        97           63.9       17.58       8.7  \n",
       "9    258.6        84           93.2       11.10      11.2  "
      ]
     },
     "execution_count": 5,
     "metadata": {},
     "output_type": "execute_result"
    }
   ],
   "source": [
    "data.head(10)"
   ]
  },
  {
   "cell_type": "code",
   "execution_count": 6,
   "metadata": {},
   "outputs": [
    {
     "name": "stdout",
     "output_type": "stream",
     "text": [
      "<class 'pandas.core.frame.DataFrame'>\n",
      "RangeIndex: 3333 entries, 0 to 3332\n",
      "Data columns (total 11 columns):\n",
      " #   Column           Non-Null Count  Dtype  \n",
      "---  ------           --------------  -----  \n",
      " 0   Churn            3333 non-null   int64  \n",
      " 1   AccountWeeks     3333 non-null   int64  \n",
      " 2   ContractRenewal  3333 non-null   int64  \n",
      " 3   DataPlan         3333 non-null   int64  \n",
      " 4   DataUsage        3333 non-null   float64\n",
      " 5   CustServCalls    3333 non-null   int64  \n",
      " 6   DayMins          3333 non-null   float64\n",
      " 7   DayCalls         3333 non-null   int64  \n",
      " 8   MonthlyCharge    3333 non-null   float64\n",
      " 9   OverageFee       3333 non-null   float64\n",
      " 10  RoamMins         3333 non-null   float64\n",
      "dtypes: float64(5), int64(6)\n",
      "memory usage: 286.6 KB\n"
     ]
    }
   ],
   "source": [
    "data.info()"
   ]
  },
  {
   "cell_type": "code",
   "execution_count": 7,
   "metadata": {},
   "outputs": [
    {
     "data": {
      "text/html": [
       "<div>\n",
       "<style scoped>\n",
       "    .dataframe tbody tr th:only-of-type {\n",
       "        vertical-align: middle;\n",
       "    }\n",
       "\n",
       "    .dataframe tbody tr th {\n",
       "        vertical-align: top;\n",
       "    }\n",
       "\n",
       "    .dataframe thead th {\n",
       "        text-align: right;\n",
       "    }\n",
       "</style>\n",
       "<table border=\"1\" class=\"dataframe\">\n",
       "  <thead>\n",
       "    <tr style=\"text-align: right;\">\n",
       "      <th></th>\n",
       "      <th>Churn</th>\n",
       "      <th>AccountWeeks</th>\n",
       "      <th>ContractRenewal</th>\n",
       "      <th>DataPlan</th>\n",
       "      <th>DataUsage</th>\n",
       "      <th>CustServCalls</th>\n",
       "      <th>DayMins</th>\n",
       "      <th>DayCalls</th>\n",
       "      <th>MonthlyCharge</th>\n",
       "      <th>OverageFee</th>\n",
       "      <th>RoamMins</th>\n",
       "    </tr>\n",
       "  </thead>\n",
       "  <tbody>\n",
       "    <tr>\n",
       "      <th>count</th>\n",
       "      <td>3333.000000</td>\n",
       "      <td>3333.000000</td>\n",
       "      <td>3333.000000</td>\n",
       "      <td>3333.000000</td>\n",
       "      <td>3333.000000</td>\n",
       "      <td>3333.000000</td>\n",
       "      <td>3333.000000</td>\n",
       "      <td>3333.000000</td>\n",
       "      <td>3333.000000</td>\n",
       "      <td>3333.000000</td>\n",
       "      <td>3333.000000</td>\n",
       "    </tr>\n",
       "    <tr>\n",
       "      <th>mean</th>\n",
       "      <td>0.144914</td>\n",
       "      <td>101.064806</td>\n",
       "      <td>0.903090</td>\n",
       "      <td>0.276628</td>\n",
       "      <td>0.816475</td>\n",
       "      <td>1.562856</td>\n",
       "      <td>179.775098</td>\n",
       "      <td>100.435644</td>\n",
       "      <td>56.305161</td>\n",
       "      <td>10.051488</td>\n",
       "      <td>10.237294</td>\n",
       "    </tr>\n",
       "    <tr>\n",
       "      <th>std</th>\n",
       "      <td>0.352067</td>\n",
       "      <td>39.822106</td>\n",
       "      <td>0.295879</td>\n",
       "      <td>0.447398</td>\n",
       "      <td>1.272668</td>\n",
       "      <td>1.315491</td>\n",
       "      <td>54.467389</td>\n",
       "      <td>20.069084</td>\n",
       "      <td>16.426032</td>\n",
       "      <td>2.535712</td>\n",
       "      <td>2.791840</td>\n",
       "    </tr>\n",
       "    <tr>\n",
       "      <th>min</th>\n",
       "      <td>0.000000</td>\n",
       "      <td>1.000000</td>\n",
       "      <td>0.000000</td>\n",
       "      <td>0.000000</td>\n",
       "      <td>0.000000</td>\n",
       "      <td>0.000000</td>\n",
       "      <td>0.000000</td>\n",
       "      <td>0.000000</td>\n",
       "      <td>14.000000</td>\n",
       "      <td>0.000000</td>\n",
       "      <td>0.000000</td>\n",
       "    </tr>\n",
       "    <tr>\n",
       "      <th>25%</th>\n",
       "      <td>0.000000</td>\n",
       "      <td>74.000000</td>\n",
       "      <td>1.000000</td>\n",
       "      <td>0.000000</td>\n",
       "      <td>0.000000</td>\n",
       "      <td>1.000000</td>\n",
       "      <td>143.700000</td>\n",
       "      <td>87.000000</td>\n",
       "      <td>45.000000</td>\n",
       "      <td>8.330000</td>\n",
       "      <td>8.500000</td>\n",
       "    </tr>\n",
       "    <tr>\n",
       "      <th>50%</th>\n",
       "      <td>0.000000</td>\n",
       "      <td>101.000000</td>\n",
       "      <td>1.000000</td>\n",
       "      <td>0.000000</td>\n",
       "      <td>0.000000</td>\n",
       "      <td>1.000000</td>\n",
       "      <td>179.400000</td>\n",
       "      <td>101.000000</td>\n",
       "      <td>53.500000</td>\n",
       "      <td>10.070000</td>\n",
       "      <td>10.300000</td>\n",
       "    </tr>\n",
       "    <tr>\n",
       "      <th>75%</th>\n",
       "      <td>0.000000</td>\n",
       "      <td>127.000000</td>\n",
       "      <td>1.000000</td>\n",
       "      <td>1.000000</td>\n",
       "      <td>1.780000</td>\n",
       "      <td>2.000000</td>\n",
       "      <td>216.400000</td>\n",
       "      <td>114.000000</td>\n",
       "      <td>66.200000</td>\n",
       "      <td>11.770000</td>\n",
       "      <td>12.100000</td>\n",
       "    </tr>\n",
       "    <tr>\n",
       "      <th>max</th>\n",
       "      <td>1.000000</td>\n",
       "      <td>243.000000</td>\n",
       "      <td>1.000000</td>\n",
       "      <td>1.000000</td>\n",
       "      <td>5.400000</td>\n",
       "      <td>9.000000</td>\n",
       "      <td>350.800000</td>\n",
       "      <td>165.000000</td>\n",
       "      <td>111.300000</td>\n",
       "      <td>18.190000</td>\n",
       "      <td>20.000000</td>\n",
       "    </tr>\n",
       "  </tbody>\n",
       "</table>\n",
       "</div>"
      ],
      "text/plain": [
       "             Churn  AccountWeeks  ContractRenewal     DataPlan    DataUsage  \\\n",
       "count  3333.000000   3333.000000      3333.000000  3333.000000  3333.000000   \n",
       "mean      0.144914    101.064806         0.903090     0.276628     0.816475   \n",
       "std       0.352067     39.822106         0.295879     0.447398     1.272668   \n",
       "min       0.000000      1.000000         0.000000     0.000000     0.000000   \n",
       "25%       0.000000     74.000000         1.000000     0.000000     0.000000   \n",
       "50%       0.000000    101.000000         1.000000     0.000000     0.000000   \n",
       "75%       0.000000    127.000000         1.000000     1.000000     1.780000   \n",
       "max       1.000000    243.000000         1.000000     1.000000     5.400000   \n",
       "\n",
       "       CustServCalls      DayMins     DayCalls  MonthlyCharge   OverageFee  \\\n",
       "count    3333.000000  3333.000000  3333.000000    3333.000000  3333.000000   \n",
       "mean        1.562856   179.775098   100.435644      56.305161    10.051488   \n",
       "std         1.315491    54.467389    20.069084      16.426032     2.535712   \n",
       "min         0.000000     0.000000     0.000000      14.000000     0.000000   \n",
       "25%         1.000000   143.700000    87.000000      45.000000     8.330000   \n",
       "50%         1.000000   179.400000   101.000000      53.500000    10.070000   \n",
       "75%         2.000000   216.400000   114.000000      66.200000    11.770000   \n",
       "max         9.000000   350.800000   165.000000     111.300000    18.190000   \n",
       "\n",
       "          RoamMins  \n",
       "count  3333.000000  \n",
       "mean     10.237294  \n",
       "std       2.791840  \n",
       "min       0.000000  \n",
       "25%       8.500000  \n",
       "50%      10.300000  \n",
       "75%      12.100000  \n",
       "max      20.000000  "
      ]
     },
     "execution_count": 7,
     "metadata": {},
     "output_type": "execute_result"
    }
   ],
   "source": [
    "data.describe()"
   ]
  },
  {
   "cell_type": "markdown",
   "metadata": {},
   "source": [
    "# Exploratory Data Analysis"
   ]
  },
  {
   "cell_type": "code",
   "execution_count": 8,
   "metadata": {},
   "outputs": [
    {
     "data": {
      "image/png": "[encoded data removed]",
      "text/plain": [
       "<Figure size 432x288 with 1 Axes>"
      ]
     },
     "metadata": {
      "needs_background": "light"
     },
     "output_type": "display_data"
    }
   ],
   "source": [
    "# Our label Distribution (countplot)\n",
    "ax = sns.countplot(x='Churn',data=data)"
   ]
  },
  {
   "cell_type": "code",
   "execution_count": 9,
   "metadata": {},
   "outputs": [
    {
     "data": {
      "text/plain": [
       "<matplotlib.axes._subplots.AxesSubplot at 0x2b2178b7d88>"
      ]
     },
     "execution_count": 9,
     "metadata": {},
     "output_type": "execute_result"
    },
    {
     "data": {
      "image/png": "[encoded data removed]",
      "text/plain": [
       "<Figure size 432x288 with 1 Axes>"
      ]
     },
     "metadata": {
      "needs_background": "light"
     },
     "output_type": "display_data"
    }
   ],
   "source": [
    "# Example EDA\n",
    "sns.distplot(data[\"AccountWeeks\"])"
   ]
  },
  {
   "cell_type": "code",
   "execution_count": 10,
   "metadata": {},
   "outputs": [
    {
     "data": {
      "image/png": "[encoded data removed]",
      "text/plain": [
       "<Figure size 1440x1080 with 12 Axes>"
      ]
     },
     "metadata": {
      "needs_background": "light"
     },
     "output_type": "display_data"
    }
   ],
   "source": [
    "# Create histograms for feature columns separated by prediction label value\n",
    "import pandas as pd \n",
    "from pandas.plotting import register_matplotlib_converters\n",
    "register_matplotlib_converters()\n",
    "nrows = 3; ncols = int(round(data.shape[1] / nrows, 0))\n",
    "fig, ax = plt.subplots(nrows=nrows, ncols=ncols, sharex=False, figsize=(20, 15))\n",
    "fig.subplots_adjust(hspace=0.3, wspace=0.3)\n",
    "columns = data.columns\n",
    "f = 0\n",
    "features = []\n",
    "for i in range(nrows):\n",
    "    for j in range(ncols):\n",
    "        if f <= data.shape[1]-1:\n",
    "            labelname = columns[f]\n",
    "            y0 = data[data['Churn']==0][labelname]\n",
    "            ax[i, j].hist(y0, label=labelname + '-Churn', bins='auto')\n",
    "            y1 = data[data['Churn']==1][labelname]\n",
    "            ax[i, j].hist(y1, alpha=0.8, label=labelname + '-NoChurn', bins='auto')\n",
    "            f += 1\n",
    "            ax[i, j].set_title(labelname)\n",
    "            features.append(labelname)\n",
    "            ax[i, j].grid()\n",
    "plt.grid()                        \n",
    "plt.show()"
   ]
  },
  {
   "cell_type": "markdown",
   "metadata": {},
   "source": [
    "# Preprocessing\n",
    "\n",
    "- Are there any duplicated values?\n",
    "- Do we need to do feature scaling?\n",
    "- Do we need to generate new features?\n",
    "- Split Train and Test dataset. (0.7/0.3)"
   ]
  },
  {
   "cell_type": "code",
   "execution_count": 11,
   "metadata": {},
   "outputs": [
    {
     "data": {
      "text/plain": [
       "array([[0.41167182, 0.67648946, 0.32758048, ..., 1.99072703, 0.0715836 ,\n",
       "        0.08500823],\n",
       "       [0.41167182, 0.14906505, 0.32758048, ..., 1.56451025, 0.10708191,\n",
       "        1.24048169],\n",
       "       [0.41167182, 0.9025285 , 0.32758048, ..., 0.26213309, 1.57434567,\n",
       "        0.70312091],\n",
       "       ...,\n",
       "       [0.41167182, 1.83505538, 0.32758048, ..., 0.01858065, 1.73094204,\n",
       "        1.3837779 ],\n",
       "       [0.41167182, 2.08295458, 3.05268496, ..., 0.38390932, 0.81704825,\n",
       "        1.87621082],\n",
       "       [0.41167182, 0.67974475, 0.32758048, ..., 2.66049626, 1.28129669,\n",
       "        1.24048169]])"
      ]
     },
     "execution_count": 11,
     "metadata": {},
     "output_type": "execute_result"
    }
   ],
   "source": [
    "from scipy import stats\n",
    "import numpy as np\n",
    "z = np.abs(stats.zscore(data))\n",
    "z"
   ]
  },
  {
   "cell_type": "code",
   "execution_count": 26,
   "metadata": {},
   "outputs": [
    {
     "data": {
      "text/plain": [
       "15"
      ]
     },
     "execution_count": 26,
     "metadata": {},
     "output_type": "execute_result"
    }
   ],
   "source": [
    "outliers = list(set(np.where(z >4)[0]))\n",
    "\n",
    "len(outliers)"
   ]
  },
  {
   "cell_type": "code",
   "execution_count": 27,
   "metadata": {},
   "outputs": [
    {
     "data": {
      "text/plain": [
       "(3333,)"
      ]
     },
     "execution_count": 27,
     "metadata": {},
     "output_type": "execute_result"
    }
   ],
   "source": [
    "y.shape"
   ]
  },
  {
   "cell_type": "code",
   "execution_count": 28,
   "metadata": {},
   "outputs": [
    {
     "data": {
      "text/html": [
       "<div>\n",
       "<style scoped>\n",
       "    .dataframe tbody tr th:only-of-type {\n",
       "        vertical-align: middle;\n",
       "    }\n",
       "\n",
       "    .dataframe tbody tr th {\n",
       "        vertical-align: top;\n",
       "    }\n",
       "\n",
       "    .dataframe thead th {\n",
       "        text-align: right;\n",
       "    }\n",
       "</style>\n",
       "<table border=\"1\" class=\"dataframe\">\n",
       "  <thead>\n",
       "    <tr style=\"text-align: right;\">\n",
       "      <th></th>\n",
       "      <th>index</th>\n",
       "      <th>Churn</th>\n",
       "      <th>AccountWeeks</th>\n",
       "      <th>ContractRenewal</th>\n",
       "      <th>DataPlan</th>\n",
       "      <th>DataUsage</th>\n",
       "      <th>CustServCalls</th>\n",
       "      <th>DayMins</th>\n",
       "      <th>DayCalls</th>\n",
       "      <th>MonthlyCharge</th>\n",
       "      <th>OverageFee</th>\n",
       "      <th>RoamMins</th>\n",
       "    </tr>\n",
       "  </thead>\n",
       "  <tbody>\n",
       "    <tr>\n",
       "      <th>0</th>\n",
       "      <td>0</td>\n",
       "      <td>0</td>\n",
       "      <td>128</td>\n",
       "      <td>1</td>\n",
       "      <td>1</td>\n",
       "      <td>2.70</td>\n",
       "      <td>1</td>\n",
       "      <td>265.1</td>\n",
       "      <td>110</td>\n",
       "      <td>89.0</td>\n",
       "      <td>9.87</td>\n",
       "      <td>10.0</td>\n",
       "    </tr>\n",
       "    <tr>\n",
       "      <th>1</th>\n",
       "      <td>1</td>\n",
       "      <td>0</td>\n",
       "      <td>107</td>\n",
       "      <td>1</td>\n",
       "      <td>1</td>\n",
       "      <td>3.70</td>\n",
       "      <td>1</td>\n",
       "      <td>161.6</td>\n",
       "      <td>123</td>\n",
       "      <td>82.0</td>\n",
       "      <td>9.78</td>\n",
       "      <td>13.7</td>\n",
       "    </tr>\n",
       "    <tr>\n",
       "      <th>2</th>\n",
       "      <td>2</td>\n",
       "      <td>0</td>\n",
       "      <td>137</td>\n",
       "      <td>1</td>\n",
       "      <td>0</td>\n",
       "      <td>0.00</td>\n",
       "      <td>0</td>\n",
       "      <td>243.4</td>\n",
       "      <td>114</td>\n",
       "      <td>52.0</td>\n",
       "      <td>6.06</td>\n",
       "      <td>12.2</td>\n",
       "    </tr>\n",
       "    <tr>\n",
       "      <th>3</th>\n",
       "      <td>3</td>\n",
       "      <td>0</td>\n",
       "      <td>84</td>\n",
       "      <td>0</td>\n",
       "      <td>0</td>\n",
       "      <td>0.00</td>\n",
       "      <td>2</td>\n",
       "      <td>299.4</td>\n",
       "      <td>71</td>\n",
       "      <td>57.0</td>\n",
       "      <td>3.10</td>\n",
       "      <td>6.6</td>\n",
       "    </tr>\n",
       "    <tr>\n",
       "      <th>4</th>\n",
       "      <td>4</td>\n",
       "      <td>0</td>\n",
       "      <td>75</td>\n",
       "      <td>0</td>\n",
       "      <td>0</td>\n",
       "      <td>0.00</td>\n",
       "      <td>3</td>\n",
       "      <td>166.7</td>\n",
       "      <td>113</td>\n",
       "      <td>41.0</td>\n",
       "      <td>7.42</td>\n",
       "      <td>10.1</td>\n",
       "    </tr>\n",
       "    <tr>\n",
       "      <th>...</th>\n",
       "      <td>...</td>\n",
       "      <td>...</td>\n",
       "      <td>...</td>\n",
       "      <td>...</td>\n",
       "      <td>...</td>\n",
       "      <td>...</td>\n",
       "      <td>...</td>\n",
       "      <td>...</td>\n",
       "      <td>...</td>\n",
       "      <td>...</td>\n",
       "      <td>...</td>\n",
       "      <td>...</td>\n",
       "    </tr>\n",
       "    <tr>\n",
       "      <th>3313</th>\n",
       "      <td>3328</td>\n",
       "      <td>0</td>\n",
       "      <td>192</td>\n",
       "      <td>1</td>\n",
       "      <td>1</td>\n",
       "      <td>2.67</td>\n",
       "      <td>2</td>\n",
       "      <td>156.2</td>\n",
       "      <td>77</td>\n",
       "      <td>71.7</td>\n",
       "      <td>10.78</td>\n",
       "      <td>9.9</td>\n",
       "    </tr>\n",
       "    <tr>\n",
       "      <th>3314</th>\n",
       "      <td>3329</td>\n",
       "      <td>0</td>\n",
       "      <td>68</td>\n",
       "      <td>1</td>\n",
       "      <td>0</td>\n",
       "      <td>0.34</td>\n",
       "      <td>3</td>\n",
       "      <td>231.1</td>\n",
       "      <td>57</td>\n",
       "      <td>56.4</td>\n",
       "      <td>7.67</td>\n",
       "      <td>9.6</td>\n",
       "    </tr>\n",
       "    <tr>\n",
       "      <th>3315</th>\n",
       "      <td>3330</td>\n",
       "      <td>0</td>\n",
       "      <td>28</td>\n",
       "      <td>1</td>\n",
       "      <td>0</td>\n",
       "      <td>0.00</td>\n",
       "      <td>2</td>\n",
       "      <td>180.8</td>\n",
       "      <td>109</td>\n",
       "      <td>56.0</td>\n",
       "      <td>14.44</td>\n",
       "      <td>14.1</td>\n",
       "    </tr>\n",
       "    <tr>\n",
       "      <th>3316</th>\n",
       "      <td>3331</td>\n",
       "      <td>0</td>\n",
       "      <td>184</td>\n",
       "      <td>0</td>\n",
       "      <td>0</td>\n",
       "      <td>0.00</td>\n",
       "      <td>2</td>\n",
       "      <td>213.8</td>\n",
       "      <td>105</td>\n",
       "      <td>50.0</td>\n",
       "      <td>7.98</td>\n",
       "      <td>5.0</td>\n",
       "    </tr>\n",
       "    <tr>\n",
       "      <th>3317</th>\n",
       "      <td>3332</td>\n",
       "      <td>0</td>\n",
       "      <td>74</td>\n",
       "      <td>1</td>\n",
       "      <td>1</td>\n",
       "      <td>3.70</td>\n",
       "      <td>0</td>\n",
       "      <td>234.4</td>\n",
       "      <td>113</td>\n",
       "      <td>100.0</td>\n",
       "      <td>13.30</td>\n",
       "      <td>13.7</td>\n",
       "    </tr>\n",
       "  </tbody>\n",
       "</table>\n",
       "<p>3318 rows × 12 columns</p>\n",
       "</div>"
      ],
      "text/plain": [
       "      index  Churn  AccountWeeks  ContractRenewal  DataPlan  DataUsage  \\\n",
       "0         0      0           128                1         1       2.70   \n",
       "1         1      0           107                1         1       3.70   \n",
       "2         2      0           137                1         0       0.00   \n",
       "3         3      0            84                0         0       0.00   \n",
       "4         4      0            75                0         0       0.00   \n",
       "...     ...    ...           ...              ...       ...        ...   \n",
       "3313   3328      0           192                1         1       2.67   \n",
       "3314   3329      0            68                1         0       0.34   \n",
       "3315   3330      0            28                1         0       0.00   \n",
       "3316   3331      0           184                0         0       0.00   \n",
       "3317   3332      0            74                1         1       3.70   \n",
       "\n",
       "      CustServCalls  DayMins  DayCalls  MonthlyCharge  OverageFee  RoamMins  \n",
       "0                 1    265.1       110           89.0        9.87      10.0  \n",
       "1                 1    161.6       123           82.0        9.78      13.7  \n",
       "2                 0    243.4       114           52.0        6.06      12.2  \n",
       "3                 2    299.4        71           57.0        3.10       6.6  \n",
       "4                 3    166.7       113           41.0        7.42      10.1  \n",
       "...             ...      ...       ...            ...         ...       ...  \n",
       "3313              2    156.2        77           71.7       10.78       9.9  \n",
       "3314              3    231.1        57           56.4        7.67       9.6  \n",
       "3315              2    180.8       109           56.0       14.44      14.1  \n",
       "3316              2    213.8       105           50.0        7.98       5.0  \n",
       "3317              0    234.4       113          100.0       13.30      13.7  \n",
       "\n",
       "[3318 rows x 12 columns]"
      ]
     },
     "metadata": {},
     "output_type": "display_data"
    },
    {
     "data": {
      "text/plain": [
       "3318"
      ]
     },
     "execution_count": 28,
     "metadata": {},
     "output_type": "execute_result"
    }
   ],
   "source": [
    "new_data = data.drop(outliers,axis = 0).reset_index(drop = False)\n",
    "display(new_data)\n",
    "\n",
    "y_new = y[list(new_data[\"index\"])]\n",
    "len(y_new)"
   ]
  },
  {
   "cell_type": "code",
   "execution_count": 29,
   "metadata": {},
   "outputs": [
    {
     "data": {
      "text/plain": [
       "array([[-0.40824829,  0.67653864,  0.32783629, ...,  1.99414804,\n",
       "        -0.07095281, -0.08610192],\n",
       "       [-0.40824829,  0.14966558,  0.32783629, ...,  1.5668921 ,\n",
       "        -0.10641199,  1.23834223],\n",
       "       [-0.40824829,  0.90234138,  0.32783629, ..., -0.2642048 ,\n",
       "        -1.5720583 ,  0.70140541],\n",
       "       ...,\n",
       "       [-0.40824829, -1.83238069,  0.32783629, ..., -0.02005855,\n",
       "         1.7295858 ,  1.38152539],\n",
       "       [-0.40824829,  2.08153347, -3.05030291, ..., -0.38627793,\n",
       "        -0.81559569, -1.87589133],\n",
       "       [-0.40824829, -0.6782778 ,  0.32783629, ...,  2.66555023,\n",
       "         1.28043613,  1.23834223]])"
      ]
     },
     "execution_count": 29,
     "metadata": {},
     "output_type": "execute_result"
    }
   ],
   "source": [
    "x_new = new_data.drop('index', axis = 1)\n",
    "\n",
    "from sklearn.preprocessing import StandardScaler, MinMaxScaler\n",
    "x_scaled = StandardScaler().fit_transform(x_new)\n",
    "x_scaled"
   ]
  },
  {
   "cell_type": "code",
   "execution_count": 30,
   "metadata": {},
   "outputs": [
    {
     "name": "stdout",
     "output_type": "stream",
     "text": [
      "Mean training accuracy: 1.0\n",
      "Test accuracy: 1.0\n"
     ]
    }
   ],
   "source": [
    "from sklearn.linear_model import LogisticRegression\n",
    "from sklearn.model_selection import train_test_split, cross_validate\n",
    "\n",
    "#Scaling and outlier removed\n",
    "X_train, X_test, y_train, y_test = train_test_split(x_scaled,y_new, test_size=0.3, random_state=42)\n",
    "\n",
    "models = LogisticRegression(random_state=42, n_jobs=-1)\n",
    "cv = cross_validate(models,X_train,y_train,cv = 4, n_jobs=-1, return_estimator=True)\n",
    "\n",
    "print(\"Mean training accuracy: {}\".format(np.mean(cv['test_score'])))\n",
    "print(\"Test accuracy: {}\".format(cv[\"estimator\"][0].score(X_test,y_test)))"
   ]
  },
  {
   "cell_type": "code",
   "execution_count": 31,
   "metadata": {},
   "outputs": [
    {
     "data": {
      "image/png": "[encoded data removed]",
      "text/plain": [
       "<Figure size 864x576 with 1 Axes>"
      ]
     },
     "metadata": {
      "needs_background": "light"
     },
     "output_type": "display_data"
    }
   ],
   "source": [
    "from sklearn.metrics import confusion_matrix\n",
    "import matplotlib.pyplot as plt\n",
    "import seaborn as sns\n",
    "pred = cv[\"estimator\"][0].predict(X_test)\n",
    "\n",
    "cm = confusion_matrix(y_test, pred)\n",
    "plt.figure(figsize=(12, 8))\n",
    "ax =sns.heatmap(cm, square=True, annot=True, cbar=False)\n",
    "ax.xaxis.set_ticklabels([\"False\",\"True\"], fontsize = 12)\n",
    "ax.yaxis.set_ticklabels([\"False\",\"True\"], fontsize = 12, rotation=0)\n",
    "ax.set_xlabel('Predicted Labels',fontsize = 15)\n",
    "ax.set_ylabel('True Labels',fontsize = 15)\n",
    "plt.show()"
   ]
  },
  {
   "cell_type": "code",
   "execution_count": 32,
   "metadata": {},
   "outputs": [
    {
     "name": "stdout",
     "output_type": "stream",
     "text": [
      "Mean training accuracy: 0.8534070243581812\n",
      "Test accuracy: 0.853\n"
     ]
    }
   ],
   "source": [
    "# Without any preprocess \n",
    "X_train, X_test, y_train, y_test = train_test_split(x,y, test_size=0.3, random_state=42)\n",
    "\n",
    "models = LogisticRegression(random_state=42,n_jobs=-1)\n",
    "cv = cross_validate(models,X_train,y_train,cv = 3, n_jobs=-1, return_estimator=True)\n",
    "\n",
    "print(\"Mean training accuracy: {}\".format(np.mean(cv['test_score'])))\n",
    "print(\"Test accuracy: {}\".format(cv[\"estimator\"][0].score(X_test,y_test)))"
   ]
  },
  {
   "cell_type": "code",
   "execution_count": 33,
   "metadata": {},
   "outputs": [
    {
     "data": {
      "image/png": "[encoded data removed]",
      "text/plain": [
       "<Figure size 864x576 with 1 Axes>"
      ]
     },
     "metadata": {
      "needs_background": "light"
     },
     "output_type": "display_data"
    }
   ],
   "source": [
    "from sklearn.metrics import confusion_matrix\n",
    "import matplotlib.pyplot as plt\n",
    "import seaborn as sns\n",
    "pred = cv[\"estimator\"][0].predict(X_test)\n",
    "\n",
    "cm = confusion_matrix(y_test, pred)\n",
    "plt.figure(figsize=(12, 8))\n",
    "ax =sns.heatmap(cm, square=True, annot=True, cbar=False)\n",
    "ax.xaxis.set_ticklabels([\"False\",\"True\"], fontsize = 12)\n",
    "ax.yaxis.set_ticklabels([\"False\",\"True\"], fontsize = 12, rotation=0)\n",
    "ax.set_xlabel('Predicted Labels',fontsize = 15)\n",
    "ax.set_ylabel('True Labels',fontsize = 15)\n",
    "plt.show()"
   ]
  },
  {
   "cell_type": "markdown",
   "metadata": {},
   "source": [
    "# Analysis on preprocessing result and without preprocessing"
   ]
  },
  {
   "cell_type": "raw",
   "metadata": {},
   "source": [
    "Here we can see that with preprocessing and scalling there is no false positive . So the model overperforms or overfits . But without preprocessing the model underfits and the false positive rate is too much higher . Let's calculate the accuracy , precision , recall , f1-score for tuning our model ."
   ]
  },
  {
   "cell_type": "code",
   "execution_count": 34,
   "metadata": {},
   "outputs": [
    {
     "name": "stdout",
     "output_type": "stream",
     "text": [
      "              precision    recall  f1-score   support\n",
      "\n",
      "           0       0.87      0.97      0.92       857\n",
      "           1       0.45      0.13      0.21       143\n",
      "\n",
      "    accuracy                           0.85      1000\n",
      "   macro avg       0.66      0.55      0.56      1000\n",
      "weighted avg       0.81      0.85      0.82      1000\n",
      "\n"
     ]
    }
   ],
   "source": [
    "from sklearn.metrics import classification_report\n",
    "print(classification_report(y_test, cv[\"estimator\"][0].predict(X_test)))"
   ]
  },
  {
   "cell_type": "code",
   "execution_count": 35,
   "metadata": {},
   "outputs": [
    {
     "name": "stdout",
     "output_type": "stream",
     "text": [
      "Accuracy: 0.853\n",
      "Precision: 0.4523809523809524\n",
      "Recall: 0.13286713286713286\n",
      "F1 Score: 0.2054054054054054\n"
     ]
    }
   ],
   "source": [
    "from sklearn.metrics import f1_score, accuracy_score, recall_score, precision_score\n",
    "\n",
    "final_model = cv[\"estimator\"][0]\n",
    "\n",
    "y_pred = final_model.predict(X_test)\n",
    "\n",
    "print(\"Accuracy:\",accuracy_score(y_test,y_pred))\n",
    "print(\"Precision:\",precision_score(y_test,y_pred))\n",
    "print(\"Recall:\",recall_score(y_test,y_pred))\n",
    "print(\"F1 Score:\",f1_score(y_test,y_pred))"
   ]
  },
  {
   "cell_type": "raw",
   "metadata": {},
   "source": [
    "Here we can see the precision , Recall and F1 score is way too much low . So our model underfitted or under performed"
   ]
  },
  {
   "cell_type": "code",
   "execution_count": 36,
   "metadata": {},
   "outputs": [
    {
     "data": {
      "image/png": "[encoded data removed]",
      "text/plain": [
       "<Figure size 720x504 with 1 Axes>"
      ]
     },
     "metadata": {},
     "output_type": "display_data"
    }
   ],
   "source": [
    "from sklearn.metrics import roc_curve, auc\n",
    "\n",
    "y_pred_prop = final_model.predict_proba(X_test)[:,1]\n",
    "\n",
    "fpr_log, tpr_log, _ = roc_curve(y_test, y_pred_prop)\n",
    "roc_auc_log = auc(fpr_log, tpr_log)\n",
    "\n",
    "sns.set_style(\"white\")\n",
    "plt.figure(figsize=(10, 7))\n",
    "plt.plot(fpr_log, tpr_log, color='darkorange',\n",
    "         label='ROC curve (area = %0.2f)' % roc_auc_log)\n",
    "plt.plot([0, 1], [0, 1], color='navy', linestyle='--')\n",
    "plt.xlim([0.0, 1.0])\n",
    "plt.ylim([0.0, 1.05])\n",
    "plt.xlabel('False Positive Rate',fontsize=18,labelpad =10)\n",
    "plt.ylabel('True Positive Rate',fontsize=18)\n",
    "plt.title('Receiver Operating Characteristic',fontsize=22).set_position([.5, 1.02])\n",
    "plt.legend(loc=\"lower right\",fontsize=13)\n",
    "plt.show()"
   ]
  },
  {
   "cell_type": "markdown",
   "metadata": {},
   "source": [
    "# Decision Tree"
   ]
  },
  {
   "cell_type": "code",
   "execution_count": 38,
   "metadata": {},
   "outputs": [],
   "source": [
    "X_train, X_test, y_train, y_test = train_test_split(x, y, test_size=0.33, random_state=123)"
   ]
  },
  {
   "cell_type": "code",
   "execution_count": 39,
   "metadata": {},
   "outputs": [
    {
     "name": "stdout",
     "output_type": "stream",
     "text": [
      "Accuracy of train: 0.9270040304523063\n",
      "Accuracy of test: 0.9236363636363636\n"
     ]
    }
   ],
   "source": [
    "from sklearn.tree import DecisionTreeClassifier\n",
    "\n",
    "clf = DecisionTreeClassifier(max_depth=4, random_state=42)\n",
    "clf.fit(X_train,y_train)\n",
    "print(\"Accuracy of train:\",clf.score(X_train,y_train))\n",
    "print(\"Accuracy of test:\",clf.score(X_test,y_test))"
   ]
  },
  {
   "cell_type": "code",
   "execution_count": 40,
   "metadata": {},
   "outputs": [
    {
     "data": {
      "image/svg+xml": [
       "<?xml version=\"1.0\" encoding=\"UTF-8\" standalone=\"no\"?>\r\n",
       "<!DOCTYPE svg PUBLIC \"-//W3C//DTD SVG 1.1//EN\"\r\n",
       " \"http://www.w3.org/Graphics/SVG/1.1/DTD/svg11.dtd\">\r\n",
       "<!-- Generated by graphviz version 2.38.0 (20140413.2041)\r\n",
       " -->\r\n",
       "<!-- Title: Tree Pages: 1 -->\r\n",
       "<svg width=\"2002pt\" height=\"552pt\"\r\n",
       " viewBox=\"0.00 0.00 2002.00 552.00\" xmlns=\"http://www.w3.org/2000/svg\" xmlns:xlink=\"http://www.w3.org/1999/xlink\">\r\n",
       "<g id=\"graph0\" class=\"graph\" transform=\"scale(1 1) rotate(0) translate(4 548)\">\r\n",
       "<title>Tree</title>\r\n",
       "<polygon fill=\"white\" stroke=\"none\" points=\"-4,4 -4,-548 1998,-548 1998,4 -4,4\"/>\r\n",
       "<!-- 0 -->\r\n",
       "<g id=\"node1\" class=\"node\"><title>0</title>\r\n",
       "<path fill=\"#ea975c\" stroke=\"black\" d=\"M1089,-544C1089,-544 962,-544 962,-544 956,-544 950,-538 950,-532 950,-532 950,-473 950,-473 950,-467 956,-461 962,-461 962,-461 1089,-461 1089,-461 1095,-461 1101,-467 1101,-473 1101,-473 1101,-532 1101,-532 1101,-538 1095,-544 1089,-544\"/>\r\n",
       "<text text-anchor=\"middle\" x=\"1025.5\" y=\"-528.8\" font-family=\"Helvetica,sans-Serif\" font-size=\"14.00\">CustServCalls &lt;= 3.5</text>\r\n",
       "<text text-anchor=\"middle\" x=\"1025.5\" y=\"-513.8\" font-family=\"Helvetica,sans-Serif\" font-size=\"14.00\">gini = 0.254</text>\r\n",
       "<text text-anchor=\"middle\" x=\"1025.5\" y=\"-498.8\" font-family=\"Helvetica,sans-Serif\" font-size=\"14.00\">samples = 2233</text>\r\n",
       "<text text-anchor=\"middle\" x=\"1025.5\" y=\"-483.8\" font-family=\"Helvetica,sans-Serif\" font-size=\"14.00\">value = [1900, 333]</text>\r\n",
       "<text text-anchor=\"middle\" x=\"1025.5\" y=\"-468.8\" font-family=\"Helvetica,sans-Serif\" font-size=\"14.00\">class = y[0]</text>\r\n",
       "</g>\r\n",
       "<!-- 1 -->\r\n",
       "<g id=\"node2\" class=\"node\"><title>1</title>\r\n",
       "<path fill=\"#e89153\" stroke=\"black\" d=\"M845.5,-425C845.5,-425 697.5,-425 697.5,-425 691.5,-425 685.5,-419 685.5,-413 685.5,-413 685.5,-354 685.5,-354 685.5,-348 691.5,-342 697.5,-342 697.5,-342 845.5,-342 845.5,-342 851.5,-342 857.5,-348 857.5,-354 857.5,-354 857.5,-413 857.5,-413 857.5,-419 851.5,-425 845.5,-425\"/>\r\n",
       "<text text-anchor=\"middle\" x=\"771.5\" y=\"-409.8\" font-family=\"Helvetica,sans-Serif\" font-size=\"14.00\">MonthlyCharge &lt;= 60.55</text>\r\n",
       "<text text-anchor=\"middle\" x=\"771.5\" y=\"-394.8\" font-family=\"Helvetica,sans-Serif\" font-size=\"14.00\">gini = 0.204</text>\r\n",
       "<text text-anchor=\"middle\" x=\"771.5\" y=\"-379.8\" font-family=\"Helvetica,sans-Serif\" font-size=\"14.00\">samples = 2043</text>\r\n",
       "<text text-anchor=\"middle\" x=\"771.5\" y=\"-364.8\" font-family=\"Helvetica,sans-Serif\" font-size=\"14.00\">value = [1808, 235]</text>\r\n",
       "<text text-anchor=\"middle\" x=\"771.5\" y=\"-349.8\" font-family=\"Helvetica,sans-Serif\" font-size=\"14.00\">class = y[0]</text>\r\n",
       "</g>\r\n",
       "<!-- 0&#45;&gt;1 -->\r\n",
       "<g id=\"edge1\" class=\"edge\"><title>0&#45;&gt;1</title>\r\n",
       "<path fill=\"none\" stroke=\"black\" d=\"M949.979,-466.713C923.966,-454.73 894.483,-441.15 867.082,-428.528\"/>\r\n",
       "<polygon fill=\"black\" stroke=\"black\" points=\"868.425,-425.293 857.878,-424.288 865.496,-431.651 868.425,-425.293\"/>\r\n",
       "<text text-anchor=\"middle\" x=\"866.538\" y=\"-444.04\" font-family=\"Helvetica,sans-Serif\" font-size=\"14.00\">True</text>\r\n",
       "</g>\r\n",
       "<!-- 16 -->\r\n",
       "<g id=\"node17\" class=\"node\"><title>16</title>\r\n",
       "<path fill=\"#f3f9fd\" stroke=\"black\" d=\"M1352.5,-425C1352.5,-425 1204.5,-425 1204.5,-425 1198.5,-425 1192.5,-419 1192.5,-413 1192.5,-413 1192.5,-354 1192.5,-354 1192.5,-348 1198.5,-342 1204.5,-342 1204.5,-342 1352.5,-342 1352.5,-342 1358.5,-342 1364.5,-348 1364.5,-354 1364.5,-354 1364.5,-413 1364.5,-413 1364.5,-419 1358.5,-425 1352.5,-425\"/>\r\n",
       "<text text-anchor=\"middle\" x=\"1278.5\" y=\"-409.8\" font-family=\"Helvetica,sans-Serif\" font-size=\"14.00\">MonthlyCharge &lt;= 45.95</text>\r\n",
       "<text text-anchor=\"middle\" x=\"1278.5\" y=\"-394.8\" font-family=\"Helvetica,sans-Serif\" font-size=\"14.00\">gini = 0.5</text>\r\n",
       "<text text-anchor=\"middle\" x=\"1278.5\" y=\"-379.8\" font-family=\"Helvetica,sans-Serif\" font-size=\"14.00\">samples = 190</text>\r\n",
       "<text text-anchor=\"middle\" x=\"1278.5\" y=\"-364.8\" font-family=\"Helvetica,sans-Serif\" font-size=\"14.00\">value = [92, 98]</text>\r\n",
       "<text text-anchor=\"middle\" x=\"1278.5\" y=\"-349.8\" font-family=\"Helvetica,sans-Serif\" font-size=\"14.00\">class = y[1]</text>\r\n",
       "</g>\r\n",
       "<!-- 0&#45;&gt;16 -->\r\n",
       "<g id=\"edge16\" class=\"edge\"><title>0&#45;&gt;16</title>\r\n",
       "<path fill=\"none\" stroke=\"black\" d=\"M1101.07,-466.555C1126.84,-454.637 1155.99,-441.153 1183.12,-428.61\"/>\r\n",
       "<polygon fill=\"black\" stroke=\"black\" points=\"1184.62,-431.771 1192.23,-424.396 1181.68,-425.417 1184.62,-431.771\"/>\r\n",
       "<text text-anchor=\"middle\" x=\"1183.6\" y=\"-444.161\" font-family=\"Helvetica,sans-Serif\" font-size=\"14.00\">False</text>\r\n",
       "</g>\r\n",
       "<!-- 2 -->\r\n",
       "<g id=\"node3\" class=\"node\"><title>2</title>\r\n",
       "<path fill=\"#e68844\" stroke=\"black\" d=\"M475,-306C475,-306 330,-306 330,-306 324,-306 318,-300 318,-294 318,-294 318,-235 318,-235 318,-229 324,-223 330,-223 330,-223 475,-223 475,-223 481,-223 487,-229 487,-235 487,-235 487,-294 487,-294 487,-300 481,-306 475,-306\"/>\r\n",
       "<text text-anchor=\"middle\" x=\"402.5\" y=\"-290.8\" font-family=\"Helvetica,sans-Serif\" font-size=\"14.00\">ContractRenewal &lt;= 0.5</text>\r\n",
       "<text text-anchor=\"middle\" x=\"402.5\" y=\"-275.8\" font-family=\"Helvetica,sans-Serif\" font-size=\"14.00\">gini = 0.101</text>\r\n",
       "<text text-anchor=\"middle\" x=\"402.5\" y=\"-260.8\" font-family=\"Helvetica,sans-Serif\" font-size=\"14.00\">samples = 1366</text>\r\n",
       "<text text-anchor=\"middle\" x=\"402.5\" y=\"-245.8\" font-family=\"Helvetica,sans-Serif\" font-size=\"14.00\">value = [1293, 73]</text>\r\n",
       "<text text-anchor=\"middle\" x=\"402.5\" y=\"-230.8\" font-family=\"Helvetica,sans-Serif\" font-size=\"14.00\">class = y[0]</text>\r\n",
       "</g>\r\n",
       "<!-- 1&#45;&gt;2 -->\r\n",
       "<g id=\"edge2\" class=\"edge\"><title>1&#45;&gt;2</title>\r\n",
       "<path fill=\"none\" stroke=\"black\" d=\"M685.452,-355.216C628.866,-337.275 554.807,-313.792 496.651,-295.353\"/>\r\n",
       "<polygon fill=\"black\" stroke=\"black\" points=\"497.682,-292.008 487.091,-292.322 495.566,-298.68 497.682,-292.008\"/>\r\n",
       "</g>\r\n",
       "<!-- 9 -->\r\n",
       "<g id=\"node10\" class=\"node\"><title>9</title>\r\n",
       "<path fill=\"#eda977\" stroke=\"black\" d=\"M833.5,-306C833.5,-306 709.5,-306 709.5,-306 703.5,-306 697.5,-300 697.5,-294 697.5,-294 697.5,-235 697.5,-235 697.5,-229 703.5,-223 709.5,-223 709.5,-223 833.5,-223 833.5,-223 839.5,-223 845.5,-229 845.5,-235 845.5,-235 845.5,-294 845.5,-294 845.5,-300 839.5,-306 833.5,-306\"/>\r\n",
       "<text text-anchor=\"middle\" x=\"771.5\" y=\"-290.8\" font-family=\"Helvetica,sans-Serif\" font-size=\"14.00\">DataUsage &lt;= 0.355</text>\r\n",
       "<text text-anchor=\"middle\" x=\"771.5\" y=\"-275.8\" font-family=\"Helvetica,sans-Serif\" font-size=\"14.00\">gini = 0.364</text>\r\n",
       "<text text-anchor=\"middle\" x=\"771.5\" y=\"-260.8\" font-family=\"Helvetica,sans-Serif\" font-size=\"14.00\">samples = 677</text>\r\n",
       "<text text-anchor=\"middle\" x=\"771.5\" y=\"-245.8\" font-family=\"Helvetica,sans-Serif\" font-size=\"14.00\">value = [515, 162]</text>\r\n",
       "<text text-anchor=\"middle\" x=\"771.5\" y=\"-230.8\" font-family=\"Helvetica,sans-Serif\" font-size=\"14.00\">class = y[0]</text>\r\n",
       "</g>\r\n",
       "<!-- 1&#45;&gt;9 -->\r\n",
       "<g id=\"edge9\" class=\"edge\"><title>1&#45;&gt;9</title>\r\n",
       "<path fill=\"none\" stroke=\"black\" d=\"M771.5,-341.907C771.5,-333.649 771.5,-324.864 771.5,-316.302\"/>\r\n",
       "<polygon fill=\"black\" stroke=\"black\" points=\"775,-316.021 771.5,-306.021 768,-316.021 775,-316.021\"/>\r\n",
       "</g>\r\n",
       "<!-- 3 -->\r\n",
       "<g id=\"node4\" class=\"node\"><title>3</title>\r\n",
       "<path fill=\"#f1b991\" stroke=\"black\" d=\"M244,-187C244,-187 123,-187 123,-187 117,-187 111,-181 111,-175 111,-175 111,-116 111,-116 111,-110 117,-104 123,-104 123,-104 244,-104 244,-104 250,-104 256,-110 256,-116 256,-116 256,-175 256,-175 256,-181 250,-187 244,-187\"/>\r\n",
       "<text text-anchor=\"middle\" x=\"183.5\" y=\"-171.8\" font-family=\"Helvetica,sans-Serif\" font-size=\"14.00\">RoamMins &lt;= 13.15</text>\r\n",
       "<text text-anchor=\"middle\" x=\"183.5\" y=\"-156.8\" font-family=\"Helvetica,sans-Serif\" font-size=\"14.00\">gini = 0.426</text>\r\n",
       "<text text-anchor=\"middle\" x=\"183.5\" y=\"-141.8\" font-family=\"Helvetica,sans-Serif\" font-size=\"14.00\">samples = 127</text>\r\n",
       "<text text-anchor=\"middle\" x=\"183.5\" y=\"-126.8\" font-family=\"Helvetica,sans-Serif\" font-size=\"14.00\">value = [88, 39]</text>\r\n",
       "<text text-anchor=\"middle\" x=\"183.5\" y=\"-111.8\" font-family=\"Helvetica,sans-Serif\" font-size=\"14.00\">class = y[0]</text>\r\n",
       "</g>\r\n",
       "<!-- 2&#45;&gt;3 -->\r\n",
       "<g id=\"edge3\" class=\"edge\"><title>2&#45;&gt;3</title>\r\n",
       "<path fill=\"none\" stroke=\"black\" d=\"M326.519,-222.907C306.61,-212.271 285.066,-200.761 264.887,-189.981\"/>\r\n",
       "<polygon fill=\"black\" stroke=\"black\" points=\"266.498,-186.873 256.028,-185.248 263.199,-193.047 266.498,-186.873\"/>\r\n",
       "</g>\r\n",
       "<!-- 6 -->\r\n",
       "<g id=\"node7\" class=\"node\"><title>6</title>\r\n",
       "<path fill=\"#e6853f\" stroke=\"black\" d=\"M469.5,-187C469.5,-187 335.5,-187 335.5,-187 329.5,-187 323.5,-181 323.5,-175 323.5,-175 323.5,-116 323.5,-116 323.5,-110 329.5,-104 335.5,-104 335.5,-104 469.5,-104 469.5,-104 475.5,-104 481.5,-110 481.5,-116 481.5,-116 481.5,-175 481.5,-175 481.5,-181 475.5,-187 469.5,-187\"/>\r\n",
       "<text text-anchor=\"middle\" x=\"402.5\" y=\"-171.8\" font-family=\"Helvetica,sans-Serif\" font-size=\"14.00\">OverageFee &lt;= 16.45</text>\r\n",
       "<text text-anchor=\"middle\" x=\"402.5\" y=\"-156.8\" font-family=\"Helvetica,sans-Serif\" font-size=\"14.00\">gini = 0.053</text>\r\n",
       "<text text-anchor=\"middle\" x=\"402.5\" y=\"-141.8\" font-family=\"Helvetica,sans-Serif\" font-size=\"14.00\">samples = 1239</text>\r\n",
       "<text text-anchor=\"middle\" x=\"402.5\" y=\"-126.8\" font-family=\"Helvetica,sans-Serif\" font-size=\"14.00\">value = [1205, 34]</text>\r\n",
       "<text text-anchor=\"middle\" x=\"402.5\" y=\"-111.8\" font-family=\"Helvetica,sans-Serif\" font-size=\"14.00\">class = y[0]</text>\r\n",
       "</g>\r\n",
       "<!-- 2&#45;&gt;6 -->\r\n",
       "<g id=\"edge6\" class=\"edge\"><title>2&#45;&gt;6</title>\r\n",
       "<path fill=\"none\" stroke=\"black\" d=\"M402.5,-222.907C402.5,-214.649 402.5,-205.864 402.5,-197.302\"/>\r\n",
       "<polygon fill=\"black\" stroke=\"black\" points=\"406,-197.021 402.5,-187.021 399,-197.021 406,-197.021\"/>\r\n",
       "</g>\r\n",
       "<!-- 4 -->\r\n",
       "<g id=\"node5\" class=\"node\"><title>4</title>\r\n",
       "<path fill=\"#eca06a\" stroke=\"black\" d=\"M101,-68C101,-68 12,-68 12,-68 6,-68 0,-62 0,-56 0,-56 0,-12 0,-12 0,-6 6,-0 12,-0 12,-0 101,-0 101,-0 107,-0 113,-6 113,-12 113,-12 113,-56 113,-56 113,-62 107,-68 101,-68\"/>\r\n",
       "<text text-anchor=\"middle\" x=\"56.5\" y=\"-52.8\" font-family=\"Helvetica,sans-Serif\" font-size=\"14.00\">gini = 0.32</text>\r\n",
       "<text text-anchor=\"middle\" x=\"56.5\" y=\"-37.8\" font-family=\"Helvetica,sans-Serif\" font-size=\"14.00\">samples = 110</text>\r\n",
       "<text text-anchor=\"middle\" x=\"56.5\" y=\"-22.8\" font-family=\"Helvetica,sans-Serif\" font-size=\"14.00\">value = [88, 22]</text>\r\n",
       "<text text-anchor=\"middle\" x=\"56.5\" y=\"-7.8\" font-family=\"Helvetica,sans-Serif\" font-size=\"14.00\">class = y[0]</text>\r\n",
       "</g>\r\n",
       "<!-- 3&#45;&gt;4 -->\r\n",
       "<g id=\"edge4\" class=\"edge\"><title>3&#45;&gt;4</title>\r\n",
       "<path fill=\"none\" stroke=\"black\" d=\"M136.21,-103.726C125.314,-94.3318 113.736,-84.349 102.879,-74.9883\"/>\r\n",
       "<polygon fill=\"black\" stroke=\"black\" points=\"104.981,-72.1789 95.1215,-68.2996 100.41,-77.4804 104.981,-72.1789\"/>\r\n",
       "</g>\r\n",
       "<!-- 5 -->\r\n",
       "<g id=\"node6\" class=\"node\"><title>5</title>\r\n",
       "<path fill=\"#399de5\" stroke=\"black\" d=\"M224,-68C224,-68 143,-68 143,-68 137,-68 131,-62 131,-56 131,-56 131,-12 131,-12 131,-6 137,-0 143,-0 143,-0 224,-0 224,-0 230,-0 236,-6 236,-12 236,-12 236,-56 236,-56 236,-62 230,-68 224,-68\"/>\r\n",
       "<text text-anchor=\"middle\" x=\"183.5\" y=\"-52.8\" font-family=\"Helvetica,sans-Serif\" font-size=\"14.00\">gini = 0.0</text>\r\n",
       "<text text-anchor=\"middle\" x=\"183.5\" y=\"-37.8\" font-family=\"Helvetica,sans-Serif\" font-size=\"14.00\">samples = 17</text>\r\n",
       "<text text-anchor=\"middle\" x=\"183.5\" y=\"-22.8\" font-family=\"Helvetica,sans-Serif\" font-size=\"14.00\">value = [0, 17]</text>\r\n",
       "<text text-anchor=\"middle\" x=\"183.5\" y=\"-7.8\" font-family=\"Helvetica,sans-Serif\" font-size=\"14.00\">class = y[1]</text>\r\n",
       "</g>\r\n",
       "<!-- 3&#45;&gt;5 -->\r\n",
       "<g id=\"edge5\" class=\"edge\"><title>3&#45;&gt;5</title>\r\n",
       "<path fill=\"none\" stroke=\"black\" d=\"M183.5,-103.726C183.5,-95.5175 183.5,-86.8595 183.5,-78.56\"/>\r\n",
       "<polygon fill=\"black\" stroke=\"black\" points=\"187,-78.2996 183.5,-68.2996 180,-78.2996 187,-78.2996\"/>\r\n",
       "</g>\r\n",
       "<!-- 7 -->\r\n",
       "<g id=\"node8\" class=\"node\"><title>7</title>\r\n",
       "<path fill=\"#e6843e\" stroke=\"black\" d=\"M372.5,-68C372.5,-68 266.5,-68 266.5,-68 260.5,-68 254.5,-62 254.5,-56 254.5,-56 254.5,-12 254.5,-12 254.5,-6 260.5,-0 266.5,-0 266.5,-0 372.5,-0 372.5,-0 378.5,-0 384.5,-6 384.5,-12 384.5,-12 384.5,-56 384.5,-56 384.5,-62 378.5,-68 372.5,-68\"/>\r\n",
       "<text text-anchor=\"middle\" x=\"319.5\" y=\"-52.8\" font-family=\"Helvetica,sans-Serif\" font-size=\"14.00\">gini = 0.051</text>\r\n",
       "<text text-anchor=\"middle\" x=\"319.5\" y=\"-37.8\" font-family=\"Helvetica,sans-Serif\" font-size=\"14.00\">samples = 1234</text>\r\n",
       "<text text-anchor=\"middle\" x=\"319.5\" y=\"-22.8\" font-family=\"Helvetica,sans-Serif\" font-size=\"14.00\">value = [1202, 32]</text>\r\n",
       "<text text-anchor=\"middle\" x=\"319.5\" y=\"-7.8\" font-family=\"Helvetica,sans-Serif\" font-size=\"14.00\">class = y[0]</text>\r\n",
       "</g>\r\n",
       "<!-- 6&#45;&gt;7 -->\r\n",
       "<g id=\"edge7\" class=\"edge\"><title>6&#45;&gt;7</title>\r\n",
       "<path fill=\"none\" stroke=\"black\" d=\"M371.594,-103.726C364.819,-94.7878 357.64,-85.3168 350.847,-76.3558\"/>\r\n",
       "<polygon fill=\"black\" stroke=\"black\" points=\"353.571,-74.1547 344.741,-68.2996 347.992,-78.3832 353.571,-74.1547\"/>\r\n",
       "</g>\r\n",
       "<!-- 8 -->\r\n",
       "<g id=\"node9\" class=\"node\"><title>8</title>\r\n",
       "<path fill=\"#f6d5bd\" stroke=\"black\" d=\"M488,-68C488,-68 415,-68 415,-68 409,-68 403,-62 403,-56 403,-56 403,-12 403,-12 403,-6 409,-0 415,-0 415,-0 488,-0 488,-0 494,-0 500,-6 500,-12 500,-12 500,-56 500,-56 500,-62 494,-68 488,-68\"/>\r\n",
       "<text text-anchor=\"middle\" x=\"451.5\" y=\"-52.8\" font-family=\"Helvetica,sans-Serif\" font-size=\"14.00\">gini = 0.48</text>\r\n",
       "<text text-anchor=\"middle\" x=\"451.5\" y=\"-37.8\" font-family=\"Helvetica,sans-Serif\" font-size=\"14.00\">samples = 5</text>\r\n",
       "<text text-anchor=\"middle\" x=\"451.5\" y=\"-22.8\" font-family=\"Helvetica,sans-Serif\" font-size=\"14.00\">value = [3, 2]</text>\r\n",
       "<text text-anchor=\"middle\" x=\"451.5\" y=\"-7.8\" font-family=\"Helvetica,sans-Serif\" font-size=\"14.00\">class = y[0]</text>\r\n",
       "</g>\r\n",
       "<!-- 6&#45;&gt;8 -->\r\n",
       "<g id=\"edge8\" class=\"edge\"><title>6&#45;&gt;8</title>\r\n",
       "<path fill=\"none\" stroke=\"black\" d=\"M420.746,-103.726C424.582,-95.1527 428.638,-86.0891 432.502,-77.4555\"/>\r\n",
       "<polygon fill=\"black\" stroke=\"black\" points=\"435.709,-78.857 436.599,-68.2996 429.319,-75.9978 435.709,-78.857\"/>\r\n",
       "</g>\r\n",
       "<!-- 10 -->\r\n",
       "<g id=\"node11\" class=\"node\"><title>10</title>\r\n",
       "<path fill=\"#90c8f0\" stroke=\"black\" d=\"M750.5,-187C750.5,-187 602.5,-187 602.5,-187 596.5,-187 590.5,-181 590.5,-175 590.5,-175 590.5,-116 590.5,-116 590.5,-110 596.5,-104 602.5,-104 602.5,-104 750.5,-104 750.5,-104 756.5,-104 762.5,-110 762.5,-116 762.5,-116 762.5,-175 762.5,-175 762.5,-181 756.5,-187 750.5,-187\"/>\r\n",
       "<text text-anchor=\"middle\" x=\"676.5\" y=\"-171.8\" font-family=\"Helvetica,sans-Serif\" font-size=\"14.00\">MonthlyCharge &lt;= 64.95</text>\r\n",
       "<text text-anchor=\"middle\" x=\"676.5\" y=\"-156.8\" font-family=\"Helvetica,sans-Serif\" font-size=\"14.00\">gini = 0.425</text>\r\n",
       "<text text-anchor=\"middle\" x=\"676.5\" y=\"-141.8\" font-family=\"Helvetica,sans-Serif\" font-size=\"14.00\">samples = 183</text>\r\n",
       "<text text-anchor=\"middle\" x=\"676.5\" y=\"-126.8\" font-family=\"Helvetica,sans-Serif\" font-size=\"14.00\">value = [56, 127]</text>\r\n",
       "<text text-anchor=\"middle\" x=\"676.5\" y=\"-111.8\" font-family=\"Helvetica,sans-Serif\" font-size=\"14.00\">class = y[1]</text>\r\n",
       "</g>\r\n",
       "<!-- 9&#45;&gt;10 -->\r\n",
       "<g id=\"edge10\" class=\"edge\"><title>9&#45;&gt;10</title>\r\n",
       "<path fill=\"none\" stroke=\"black\" d=\"M738.54,-222.907C731.245,-213.923 723.444,-204.315 715.921,-195.05\"/>\r\n",
       "<polygon fill=\"black\" stroke=\"black\" points=\"718.422,-192.578 709.402,-187.021 712.988,-196.99 718.422,-192.578\"/>\r\n",
       "</g>\r\n",
       "<!-- 13 -->\r\n",
       "<g id=\"node14\" class=\"node\"><title>13</title>\r\n",
       "<path fill=\"#e78b48\" stroke=\"black\" d=\"M938,-187C938,-187 793,-187 793,-187 787,-187 781,-181 781,-175 781,-175 781,-116 781,-116 781,-110 787,-104 793,-104 793,-104 938,-104 938,-104 944,-104 950,-110 950,-116 950,-116 950,-175 950,-175 950,-181 944,-187 938,-187\"/>\r\n",
       "<text text-anchor=\"middle\" x=\"865.5\" y=\"-171.8\" font-family=\"Helvetica,sans-Serif\" font-size=\"14.00\">ContractRenewal &lt;= 0.5</text>\r\n",
       "<text text-anchor=\"middle\" x=\"865.5\" y=\"-156.8\" font-family=\"Helvetica,sans-Serif\" font-size=\"14.00\">gini = 0.132</text>\r\n",
       "<text text-anchor=\"middle\" x=\"865.5\" y=\"-141.8\" font-family=\"Helvetica,sans-Serif\" font-size=\"14.00\">samples = 494</text>\r\n",
       "<text text-anchor=\"middle\" x=\"865.5\" y=\"-126.8\" font-family=\"Helvetica,sans-Serif\" font-size=\"14.00\">value = [459, 35]</text>\r\n",
       "<text text-anchor=\"middle\" x=\"865.5\" y=\"-111.8\" font-family=\"Helvetica,sans-Serif\" font-size=\"14.00\">class = y[0]</text>\r\n",
       "</g>\r\n",
       "<!-- 9&#45;&gt;13 -->\r\n",
       "<g id=\"edge13\" class=\"edge\"><title>9&#45;&gt;13</title>\r\n",
       "<path fill=\"none\" stroke=\"black\" d=\"M804.113,-222.907C811.331,-213.923 819.05,-204.315 826.494,-195.05\"/>\r\n",
       "<polygon fill=\"black\" stroke=\"black\" points=\"829.41,-197.009 832.945,-187.021 823.953,-192.624 829.41,-197.009\"/>\r\n",
       "</g>\r\n",
       "<!-- 11 -->\r\n",
       "<g id=\"node12\" class=\"node\"><title>11</title>\r\n",
       "<path fill=\"#fae6d7\" stroke=\"black\" d=\"M619,-68C619,-68 530,-68 530,-68 524,-68 518,-62 518,-56 518,-56 518,-12 518,-12 518,-6 524,-0 530,-0 530,-0 619,-0 619,-0 625,-0 631,-6 631,-12 631,-12 631,-56 631,-56 631,-62 625,-68 619,-68\"/>\r\n",
       "<text text-anchor=\"middle\" x=\"574.5\" y=\"-52.8\" font-family=\"Helvetica,sans-Serif\" font-size=\"14.00\">gini = 0.494</text>\r\n",
       "<text text-anchor=\"middle\" x=\"574.5\" y=\"-37.8\" font-family=\"Helvetica,sans-Serif\" font-size=\"14.00\">samples = 81</text>\r\n",
       "<text text-anchor=\"middle\" x=\"574.5\" y=\"-22.8\" font-family=\"Helvetica,sans-Serif\" font-size=\"14.00\">value = [45, 36]</text>\r\n",
       "<text text-anchor=\"middle\" x=\"574.5\" y=\"-7.8\" font-family=\"Helvetica,sans-Serif\" font-size=\"14.00\">class = y[0]</text>\r\n",
       "</g>\r\n",
       "<!-- 10&#45;&gt;11 -->\r\n",
       "<g id=\"edge11\" class=\"edge\"><title>10&#45;&gt;11</title>\r\n",
       "<path fill=\"none\" stroke=\"black\" d=\"M638.519,-103.726C630.023,-94.6054 621.01,-84.93 612.513,-75.8078\"/>\r\n",
       "<polygon fill=\"black\" stroke=\"black\" points=\"614.896,-73.2312 605.519,-68.2996 609.774,-78.0025 614.896,-73.2312\"/>\r\n",
       "</g>\r\n",
       "<!-- 12 -->\r\n",
       "<g id=\"node13\" class=\"node\"><title>12</title>\r\n",
       "<path fill=\"#51a9e8\" stroke=\"black\" d=\"M750,-68C750,-68 661,-68 661,-68 655,-68 649,-62 649,-56 649,-56 649,-12 649,-12 649,-6 655,-0 661,-0 661,-0 750,-0 750,-0 756,-0 762,-6 762,-12 762,-12 762,-56 762,-56 762,-62 756,-68 750,-68\"/>\r\n",
       "<text text-anchor=\"middle\" x=\"705.5\" y=\"-52.8\" font-family=\"Helvetica,sans-Serif\" font-size=\"14.00\">gini = 0.192</text>\r\n",
       "<text text-anchor=\"middle\" x=\"705.5\" y=\"-37.8\" font-family=\"Helvetica,sans-Serif\" font-size=\"14.00\">samples = 102</text>\r\n",
       "<text text-anchor=\"middle\" x=\"705.5\" y=\"-22.8\" font-family=\"Helvetica,sans-Serif\" font-size=\"14.00\">value = [11, 91]</text>\r\n",
       "<text text-anchor=\"middle\" x=\"705.5\" y=\"-7.8\" font-family=\"Helvetica,sans-Serif\" font-size=\"14.00\">class = y[1]</text>\r\n",
       "</g>\r\n",
       "<!-- 10&#45;&gt;12 -->\r\n",
       "<g id=\"edge12\" class=\"edge\"><title>10&#45;&gt;12</title>\r\n",
       "<path fill=\"none\" stroke=\"black\" d=\"M687.299,-103.726C689.521,-95.3351 691.867,-86.4745 694.11,-78.0072\"/>\r\n",
       "<polygon fill=\"black\" stroke=\"black\" points=\"697.504,-78.8624 696.681,-68.2996 690.737,-77.0703 697.504,-78.8624\"/>\r\n",
       "</g>\r\n",
       "<!-- 14 -->\r\n",
       "<g id=\"node15\" class=\"node\"><title>14</title>\r\n",
       "<path fill=\"#f4ccaf\" stroke=\"black\" d=\"M881,-68C881,-68 792,-68 792,-68 786,-68 780,-62 780,-56 780,-56 780,-12 780,-12 780,-6 786,-0 792,-0 792,-0 881,-0 881,-0 887,-0 893,-6 893,-12 893,-12 893,-56 893,-56 893,-62 887,-68 881,-68\"/>\r\n",
       "<text text-anchor=\"middle\" x=\"836.5\" y=\"-52.8\" font-family=\"Helvetica,sans-Serif\" font-size=\"14.00\">gini = 0.468</text>\r\n",
       "<text text-anchor=\"middle\" x=\"836.5\" y=\"-37.8\" font-family=\"Helvetica,sans-Serif\" font-size=\"14.00\">samples = 51</text>\r\n",
       "<text text-anchor=\"middle\" x=\"836.5\" y=\"-22.8\" font-family=\"Helvetica,sans-Serif\" font-size=\"14.00\">value = [32, 19]</text>\r\n",
       "<text text-anchor=\"middle\" x=\"836.5\" y=\"-7.8\" font-family=\"Helvetica,sans-Serif\" font-size=\"14.00\">class = y[0]</text>\r\n",
       "</g>\r\n",
       "<!-- 13&#45;&gt;14 -->\r\n",
       "<g id=\"edge14\" class=\"edge\"><title>13&#45;&gt;14</title>\r\n",
       "<path fill=\"none\" stroke=\"black\" d=\"M854.701,-103.726C852.479,-95.3351 850.133,-86.4745 847.89,-78.0072\"/>\r\n",
       "<polygon fill=\"black\" stroke=\"black\" points=\"851.263,-77.0703 845.319,-68.2996 844.496,-78.8624 851.263,-77.0703\"/>\r\n",
       "</g>\r\n",
       "<!-- 15 -->\r\n",
       "<g id=\"node16\" class=\"node\"><title>15</title>\r\n",
       "<path fill=\"#e68640\" stroke=\"black\" d=\"M1021.5,-68C1021.5,-68 923.5,-68 923.5,-68 917.5,-68 911.5,-62 911.5,-56 911.5,-56 911.5,-12 911.5,-12 911.5,-6 917.5,-0 923.5,-0 923.5,-0 1021.5,-0 1021.5,-0 1027.5,-0 1033.5,-6 1033.5,-12 1033.5,-12 1033.5,-56 1033.5,-56 1033.5,-62 1027.5,-68 1021.5,-68\"/>\r\n",
       "<text text-anchor=\"middle\" x=\"972.5\" y=\"-52.8\" font-family=\"Helvetica,sans-Serif\" font-size=\"14.00\">gini = 0.07</text>\r\n",
       "<text text-anchor=\"middle\" x=\"972.5\" y=\"-37.8\" font-family=\"Helvetica,sans-Serif\" font-size=\"14.00\">samples = 443</text>\r\n",
       "<text text-anchor=\"middle\" x=\"972.5\" y=\"-22.8\" font-family=\"Helvetica,sans-Serif\" font-size=\"14.00\">value = [427, 16]</text>\r\n",
       "<text text-anchor=\"middle\" x=\"972.5\" y=\"-7.8\" font-family=\"Helvetica,sans-Serif\" font-size=\"14.00\">class = y[0]</text>\r\n",
       "</g>\r\n",
       "<!-- 13&#45;&gt;15 -->\r\n",
       "<g id=\"edge15\" class=\"edge\"><title>13&#45;&gt;15</title>\r\n",
       "<path fill=\"none\" stroke=\"black\" d=\"M905.343,-103.726C914.345,-94.5142 923.899,-84.7364 932.891,-75.5343\"/>\r\n",
       "<polygon fill=\"black\" stroke=\"black\" points=\"935.475,-77.898 939.961,-68.2996 930.468,-73.0057 935.475,-77.898\"/>\r\n",
       "</g>\r\n",
       "<!-- 17 -->\r\n",
       "<g id=\"node18\" class=\"node\"><title>17</title>\r\n",
       "<path fill=\"#43a2e6\" stroke=\"black\" d=\"M1345.5,-306C1345.5,-306 1211.5,-306 1211.5,-306 1205.5,-306 1199.5,-300 1199.5,-294 1199.5,-294 1199.5,-235 1199.5,-235 1199.5,-229 1205.5,-223 1211.5,-223 1211.5,-223 1345.5,-223 1345.5,-223 1351.5,-223 1357.5,-229 1357.5,-235 1357.5,-235 1357.5,-294 1357.5,-294 1357.5,-300 1351.5,-306 1345.5,-306\"/>\r\n",
       "<text text-anchor=\"middle\" x=\"1278.5\" y=\"-290.8\" font-family=\"Helvetica,sans-Serif\" font-size=\"14.00\">OverageFee &lt;= 12.16</text>\r\n",
       "<text text-anchor=\"middle\" x=\"1278.5\" y=\"-275.8\" font-family=\"Helvetica,sans-Serif\" font-size=\"14.00\">gini = 0.092</text>\r\n",
       "<text text-anchor=\"middle\" x=\"1278.5\" y=\"-260.8\" font-family=\"Helvetica,sans-Serif\" font-size=\"14.00\">samples = 62</text>\r\n",
       "<text text-anchor=\"middle\" x=\"1278.5\" y=\"-245.8\" font-family=\"Helvetica,sans-Serif\" font-size=\"14.00\">value = [3, 59]</text>\r\n",
       "<text text-anchor=\"middle\" x=\"1278.5\" y=\"-230.8\" font-family=\"Helvetica,sans-Serif\" font-size=\"14.00\">class = y[1]</text>\r\n",
       "</g>\r\n",
       "<!-- 16&#45;&gt;17 -->\r\n",
       "<g id=\"edge17\" class=\"edge\"><title>16&#45;&gt;17</title>\r\n",
       "<path fill=\"none\" stroke=\"black\" d=\"M1278.5,-341.907C1278.5,-333.649 1278.5,-324.864 1278.5,-316.302\"/>\r\n",
       "<polygon fill=\"black\" stroke=\"black\" points=\"1282,-316.021 1278.5,-306.021 1275,-316.021 1282,-316.021\"/>\r\n",
       "</g>\r\n",
       "<!-- 24 -->\r\n",
       "<g id=\"node25\" class=\"node\"><title>24</title>\r\n",
       "<path fill=\"#f0b890\" stroke=\"black\" d=\"M1679.5,-306C1679.5,-306 1539.5,-306 1539.5,-306 1533.5,-306 1527.5,-300 1527.5,-294 1527.5,-294 1527.5,-235 1527.5,-235 1527.5,-229 1533.5,-223 1539.5,-223 1539.5,-223 1679.5,-223 1679.5,-223 1685.5,-223 1691.5,-229 1691.5,-235 1691.5,-235 1691.5,-294 1691.5,-294 1691.5,-300 1685.5,-306 1679.5,-306\"/>\r\n",
       "<text text-anchor=\"middle\" x=\"1609.5\" y=\"-290.8\" font-family=\"Helvetica,sans-Serif\" font-size=\"14.00\">MonthlyCharge &lt;= 58.7</text>\r\n",
       "<text text-anchor=\"middle\" x=\"1609.5\" y=\"-275.8\" font-family=\"Helvetica,sans-Serif\" font-size=\"14.00\">gini = 0.424</text>\r\n",
       "<text text-anchor=\"middle\" x=\"1609.5\" y=\"-260.8\" font-family=\"Helvetica,sans-Serif\" font-size=\"14.00\">samples = 128</text>\r\n",
       "<text text-anchor=\"middle\" x=\"1609.5\" y=\"-245.8\" font-family=\"Helvetica,sans-Serif\" font-size=\"14.00\">value = [89, 39]</text>\r\n",
       "<text text-anchor=\"middle\" x=\"1609.5\" y=\"-230.8\" font-family=\"Helvetica,sans-Serif\" font-size=\"14.00\">class = y[0]</text>\r\n",
       "</g>\r\n",
       "<!-- 16&#45;&gt;24 -->\r\n",
       "<g id=\"edge24\" class=\"edge\"><title>16&#45;&gt;24</title>\r\n",
       "<path fill=\"none\" stroke=\"black\" d=\"M1364.6,-352.065C1411.65,-335.434 1469.92,-314.838 1517.82,-297.908\"/>\r\n",
       "<polygon fill=\"black\" stroke=\"black\" points=\"1518.99,-301.206 1527.25,-294.573 1516.66,-294.606 1518.99,-301.206\"/>\r\n",
       "</g>\r\n",
       "<!-- 18 -->\r\n",
       "<g id=\"node19\" class=\"node\"><title>18</title>\r\n",
       "<path fill=\"#3c9fe5\" stroke=\"black\" d=\"M1262.5,-187C1262.5,-187 1120.5,-187 1120.5,-187 1114.5,-187 1108.5,-181 1108.5,-175 1108.5,-175 1108.5,-116 1108.5,-116 1108.5,-110 1114.5,-104 1120.5,-104 1120.5,-104 1262.5,-104 1262.5,-104 1268.5,-104 1274.5,-110 1274.5,-116 1274.5,-116 1274.5,-175 1274.5,-175 1274.5,-181 1268.5,-187 1262.5,-187\"/>\r\n",
       "<text text-anchor=\"middle\" x=\"1191.5\" y=\"-171.8\" font-family=\"Helvetica,sans-Serif\" font-size=\"14.00\">AccountWeeks &lt;= 47.5</text>\r\n",
       "<text text-anchor=\"middle\" x=\"1191.5\" y=\"-156.8\" font-family=\"Helvetica,sans-Serif\" font-size=\"14.00\">gini = 0.034</text>\r\n",
       "<text text-anchor=\"middle\" x=\"1191.5\" y=\"-141.8\" font-family=\"Helvetica,sans-Serif\" font-size=\"14.00\">samples = 58</text>\r\n",
       "<text text-anchor=\"middle\" x=\"1191.5\" y=\"-126.8\" font-family=\"Helvetica,sans-Serif\" font-size=\"14.00\">value = [1, 57]</text>\r\n",
       "<text text-anchor=\"middle\" x=\"1191.5\" y=\"-111.8\" font-family=\"Helvetica,sans-Serif\" font-size=\"14.00\">class = y[1]</text>\r\n",
       "</g>\r\n",
       "<!-- 17&#45;&gt;18 -->\r\n",
       "<g id=\"edge18\" class=\"edge\"><title>17&#45;&gt;18</title>\r\n",
       "<path fill=\"none\" stroke=\"black\" d=\"M1248.32,-222.907C1241.64,-213.923 1234.49,-204.315 1227.6,-195.05\"/>\r\n",
       "<polygon fill=\"black\" stroke=\"black\" points=\"1230.41,-192.957 1221.63,-187.021 1224.79,-197.134 1230.41,-192.957\"/>\r\n",
       "</g>\r\n",
       "<!-- 21 -->\r\n",
       "<g id=\"node22\" class=\"node\"><title>21</title>\r\n",
       "<path fill=\"#ffffff\" stroke=\"black\" d=\"M1426,-187C1426,-187 1305,-187 1305,-187 1299,-187 1293,-181 1293,-175 1293,-175 1293,-116 1293,-116 1293,-110 1299,-104 1305,-104 1305,-104 1426,-104 1426,-104 1432,-104 1438,-110 1438,-116 1438,-116 1438,-175 1438,-175 1438,-181 1432,-187 1426,-187\"/>\r\n",
       "<text text-anchor=\"middle\" x=\"1365.5\" y=\"-171.8\" font-family=\"Helvetica,sans-Serif\" font-size=\"14.00\">RoamMins &lt;= 12.35</text>\r\n",
       "<text text-anchor=\"middle\" x=\"1365.5\" y=\"-156.8\" font-family=\"Helvetica,sans-Serif\" font-size=\"14.00\">gini = 0.5</text>\r\n",
       "<text text-anchor=\"middle\" x=\"1365.5\" y=\"-141.8\" font-family=\"Helvetica,sans-Serif\" font-size=\"14.00\">samples = 4</text>\r\n",
       "<text text-anchor=\"middle\" x=\"1365.5\" y=\"-126.8\" font-family=\"Helvetica,sans-Serif\" font-size=\"14.00\">value = [2, 2]</text>\r\n",
       "<text text-anchor=\"middle\" x=\"1365.5\" y=\"-111.8\" font-family=\"Helvetica,sans-Serif\" font-size=\"14.00\">class = y[0]</text>\r\n",
       "</g>\r\n",
       "<!-- 17&#45;&gt;21 -->\r\n",
       "<g id=\"edge21\" class=\"edge\"><title>17&#45;&gt;21</title>\r\n",
       "<path fill=\"none\" stroke=\"black\" d=\"M1308.68,-222.907C1315.36,-213.923 1322.51,-204.315 1329.4,-195.05\"/>\r\n",
       "<polygon fill=\"black\" stroke=\"black\" points=\"1332.21,-197.134 1335.37,-187.021 1326.59,-192.957 1332.21,-197.134\"/>\r\n",
       "</g>\r\n",
       "<!-- 19 -->\r\n",
       "<g id=\"node20\" class=\"node\"><title>19</title>\r\n",
       "<path fill=\"#61b1ea\" stroke=\"black\" d=\"M1137,-68C1137,-68 1064,-68 1064,-68 1058,-68 1052,-62 1052,-56 1052,-56 1052,-12 1052,-12 1052,-6 1058,-0 1064,-0 1064,-0 1137,-0 1137,-0 1143,-0 1149,-6 1149,-12 1149,-12 1149,-56 1149,-56 1149,-62 1143,-68 1137,-68\"/>\r\n",
       "<text text-anchor=\"middle\" x=\"1100.5\" y=\"-52.8\" font-family=\"Helvetica,sans-Serif\" font-size=\"14.00\">gini = 0.278</text>\r\n",
       "<text text-anchor=\"middle\" x=\"1100.5\" y=\"-37.8\" font-family=\"Helvetica,sans-Serif\" font-size=\"14.00\">samples = 6</text>\r\n",
       "<text text-anchor=\"middle\" x=\"1100.5\" y=\"-22.8\" font-family=\"Helvetica,sans-Serif\" font-size=\"14.00\">value = [1, 5]</text>\r\n",
       "<text text-anchor=\"middle\" x=\"1100.5\" y=\"-7.8\" font-family=\"Helvetica,sans-Serif\" font-size=\"14.00\">class = y[1]</text>\r\n",
       "</g>\r\n",
       "<!-- 18&#45;&gt;19 -->\r\n",
       "<g id=\"edge19\" class=\"edge\"><title>18&#45;&gt;19</title>\r\n",
       "<path fill=\"none\" stroke=\"black\" d=\"M1157.61,-103.726C1150.11,-94.6966 1142.16,-85.1235 1134.64,-76.0816\"/>\r\n",
       "<polygon fill=\"black\" stroke=\"black\" points=\"1137.26,-73.7534 1128.17,-68.2996 1131.87,-78.2275 1137.26,-73.7534\"/>\r\n",
       "</g>\r\n",
       "<!-- 20 -->\r\n",
       "<g id=\"node21\" class=\"node\"><title>20</title>\r\n",
       "<path fill=\"#399de5\" stroke=\"black\" d=\"M1260,-68C1260,-68 1179,-68 1179,-68 1173,-68 1167,-62 1167,-56 1167,-56 1167,-12 1167,-12 1167,-6 1173,-0 1179,-0 1179,-0 1260,-0 1260,-0 1266,-0 1272,-6 1272,-12 1272,-12 1272,-56 1272,-56 1272,-62 1266,-68 1260,-68\"/>\r\n",
       "<text text-anchor=\"middle\" x=\"1219.5\" y=\"-52.8\" font-family=\"Helvetica,sans-Serif\" font-size=\"14.00\">gini = 0.0</text>\r\n",
       "<text text-anchor=\"middle\" x=\"1219.5\" y=\"-37.8\" font-family=\"Helvetica,sans-Serif\" font-size=\"14.00\">samples = 52</text>\r\n",
       "<text text-anchor=\"middle\" x=\"1219.5\" y=\"-22.8\" font-family=\"Helvetica,sans-Serif\" font-size=\"14.00\">value = [0, 52]</text>\r\n",
       "<text text-anchor=\"middle\" x=\"1219.5\" y=\"-7.8\" font-family=\"Helvetica,sans-Serif\" font-size=\"14.00\">class = y[1]</text>\r\n",
       "</g>\r\n",
       "<!-- 18&#45;&gt;20 -->\r\n",
       "<g id=\"edge20\" class=\"edge\"><title>18&#45;&gt;20</title>\r\n",
       "<path fill=\"none\" stroke=\"black\" d=\"M1201.93,-103.726C1204.07,-95.3351 1206.34,-86.4745 1208.5,-78.0072\"/>\r\n",
       "<polygon fill=\"black\" stroke=\"black\" points=\"1211.9,-78.855 1210.99,-68.2996 1205.12,-77.1208 1211.9,-78.855\"/>\r\n",
       "</g>\r\n",
       "<!-- 22 -->\r\n",
       "<g id=\"node23\" class=\"node\"><title>22</title>\r\n",
       "<path fill=\"#e58139\" stroke=\"black\" d=\"M1375,-68C1375,-68 1302,-68 1302,-68 1296,-68 1290,-62 1290,-56 1290,-56 1290,-12 1290,-12 1290,-6 1296,-0 1302,-0 1302,-0 1375,-0 1375,-0 1381,-0 1387,-6 1387,-12 1387,-12 1387,-56 1387,-56 1387,-62 1381,-68 1375,-68\"/>\r\n",
       "<text text-anchor=\"middle\" x=\"1338.5\" y=\"-52.8\" font-family=\"Helvetica,sans-Serif\" font-size=\"14.00\">gini = 0.0</text>\r\n",
       "<text text-anchor=\"middle\" x=\"1338.5\" y=\"-37.8\" font-family=\"Helvetica,sans-Serif\" font-size=\"14.00\">samples = 2</text>\r\n",
       "<text text-anchor=\"middle\" x=\"1338.5\" y=\"-22.8\" font-family=\"Helvetica,sans-Serif\" font-size=\"14.00\">value = [2, 0]</text>\r\n",
       "<text text-anchor=\"middle\" x=\"1338.5\" y=\"-7.8\" font-family=\"Helvetica,sans-Serif\" font-size=\"14.00\">class = y[0]</text>\r\n",
       "</g>\r\n",
       "<!-- 21&#45;&gt;22 -->\r\n",
       "<g id=\"edge22\" class=\"edge\"><title>21&#45;&gt;22</title>\r\n",
       "<path fill=\"none\" stroke=\"black\" d=\"M1355.45,-103.726C1353.4,-95.4263 1351.24,-86.6671 1349.17,-78.2834\"/>\r\n",
       "<polygon fill=\"black\" stroke=\"black\" points=\"1352.5,-77.1709 1346.71,-68.2996 1345.71,-78.8467 1352.5,-77.1709\"/>\r\n",
       "</g>\r\n",
       "<!-- 23 -->\r\n",
       "<g id=\"node24\" class=\"node\"><title>23</title>\r\n",
       "<path fill=\"#399de5\" stroke=\"black\" d=\"M1490,-68C1490,-68 1417,-68 1417,-68 1411,-68 1405,-62 1405,-56 1405,-56 1405,-12 1405,-12 1405,-6 1411,-0 1417,-0 1417,-0 1490,-0 1490,-0 1496,-0 1502,-6 1502,-12 1502,-12 1502,-56 1502,-56 1502,-62 1496,-68 1490,-68\"/>\r\n",
       "<text text-anchor=\"middle\" x=\"1453.5\" y=\"-52.8\" font-family=\"Helvetica,sans-Serif\" font-size=\"14.00\">gini = 0.0</text>\r\n",
       "<text text-anchor=\"middle\" x=\"1453.5\" y=\"-37.8\" font-family=\"Helvetica,sans-Serif\" font-size=\"14.00\">samples = 2</text>\r\n",
       "<text text-anchor=\"middle\" x=\"1453.5\" y=\"-22.8\" font-family=\"Helvetica,sans-Serif\" font-size=\"14.00\">value = [0, 2]</text>\r\n",
       "<text text-anchor=\"middle\" x=\"1453.5\" y=\"-7.8\" font-family=\"Helvetica,sans-Serif\" font-size=\"14.00\">class = y[1]</text>\r\n",
       "</g>\r\n",
       "<!-- 21&#45;&gt;23 -->\r\n",
       "<g id=\"edge23\" class=\"edge\"><title>21&#45;&gt;23</title>\r\n",
       "<path fill=\"none\" stroke=\"black\" d=\"M1398.27,-103.726C1405.45,-94.7878 1413.06,-85.3168 1420.26,-76.3558\"/>\r\n",
       "<polygon fill=\"black\" stroke=\"black\" points=\"1423.2,-78.2869 1426.74,-68.2996 1417.75,-73.9019 1423.2,-78.2869\"/>\r\n",
       "</g>\r\n",
       "<!-- 25 -->\r\n",
       "<g id=\"node26\" class=\"node\"><title>25</title>\r\n",
       "<path fill=\"#e78b48\" stroke=\"black\" d=\"M1661.5,-187C1661.5,-187 1557.5,-187 1557.5,-187 1551.5,-187 1545.5,-181 1545.5,-175 1545.5,-175 1545.5,-116 1545.5,-116 1545.5,-110 1551.5,-104 1557.5,-104 1557.5,-104 1661.5,-104 1661.5,-104 1667.5,-104 1673.5,-110 1673.5,-116 1673.5,-116 1673.5,-175 1673.5,-175 1673.5,-181 1667.5,-187 1661.5,-187\"/>\r\n",
       "<text text-anchor=\"middle\" x=\"1609.5\" y=\"-171.8\" font-family=\"Helvetica,sans-Serif\" font-size=\"14.00\">RoamMins &lt;= 5.2</text>\r\n",
       "<text text-anchor=\"middle\" x=\"1609.5\" y=\"-156.8\" font-family=\"Helvetica,sans-Serif\" font-size=\"14.00\">gini = 0.133</text>\r\n",
       "<text text-anchor=\"middle\" x=\"1609.5\" y=\"-141.8\" font-family=\"Helvetica,sans-Serif\" font-size=\"14.00\">samples = 56</text>\r\n",
       "<text text-anchor=\"middle\" x=\"1609.5\" y=\"-126.8\" font-family=\"Helvetica,sans-Serif\" font-size=\"14.00\">value = [52, 4]</text>\r\n",
       "<text text-anchor=\"middle\" x=\"1609.5\" y=\"-111.8\" font-family=\"Helvetica,sans-Serif\" font-size=\"14.00\">class = y[0]</text>\r\n",
       "</g>\r\n",
       "<!-- 24&#45;&gt;25 -->\r\n",
       "<g id=\"edge25\" class=\"edge\"><title>24&#45;&gt;25</title>\r\n",
       "<path fill=\"none\" stroke=\"black\" d=\"M1609.5,-222.907C1609.5,-214.649 1609.5,-205.864 1609.5,-197.302\"/>\r\n",
       "<polygon fill=\"black\" stroke=\"black\" points=\"1613,-197.021 1609.5,-187.021 1606,-197.021 1613,-197.021\"/>\r\n",
       "</g>\r\n",
       "<!-- 28 -->\r\n",
       "<g id=\"node29\" class=\"node\"><title>28</title>\r\n",
       "<path fill=\"#fef8f4\" stroke=\"black\" d=\"M1884.5,-187C1884.5,-187 1744.5,-187 1744.5,-187 1738.5,-187 1732.5,-181 1732.5,-175 1732.5,-175 1732.5,-116 1732.5,-116 1732.5,-110 1738.5,-104 1744.5,-104 1744.5,-104 1884.5,-104 1884.5,-104 1890.5,-104 1896.5,-110 1896.5,-116 1896.5,-116 1896.5,-175 1896.5,-175 1896.5,-181 1890.5,-187 1884.5,-187\"/>\r\n",
       "<text text-anchor=\"middle\" x=\"1814.5\" y=\"-171.8\" font-family=\"Helvetica,sans-Serif\" font-size=\"14.00\">MonthlyCharge &lt;= 76.1</text>\r\n",
       "<text text-anchor=\"middle\" x=\"1814.5\" y=\"-156.8\" font-family=\"Helvetica,sans-Serif\" font-size=\"14.00\">gini = 0.5</text>\r\n",
       "<text text-anchor=\"middle\" x=\"1814.5\" y=\"-141.8\" font-family=\"Helvetica,sans-Serif\" font-size=\"14.00\">samples = 72</text>\r\n",
       "<text text-anchor=\"middle\" x=\"1814.5\" y=\"-126.8\" font-family=\"Helvetica,sans-Serif\" font-size=\"14.00\">value = [37, 35]</text>\r\n",
       "<text text-anchor=\"middle\" x=\"1814.5\" y=\"-111.8\" font-family=\"Helvetica,sans-Serif\" font-size=\"14.00\">class = y[0]</text>\r\n",
       "</g>\r\n",
       "<!-- 24&#45;&gt;28 -->\r\n",
       "<g id=\"edge28\" class=\"edge\"><title>24&#45;&gt;28</title>\r\n",
       "<path fill=\"none\" stroke=\"black\" d=\"M1680.62,-222.907C1697.96,-213.016 1716.61,-202.368 1734.33,-192.254\"/>\r\n",
       "<polygon fill=\"black\" stroke=\"black\" points=\"1736.55,-195.017 1743.5,-187.021 1733.08,-188.938 1736.55,-195.017\"/>\r\n",
       "</g>\r\n",
       "<!-- 26 -->\r\n",
       "<g id=\"node27\" class=\"node\"><title>26</title>\r\n",
       "<path fill=\"#399de5\" stroke=\"black\" d=\"M1605,-68C1605,-68 1532,-68 1532,-68 1526,-68 1520,-62 1520,-56 1520,-56 1520,-12 1520,-12 1520,-6 1526,-0 1532,-0 1532,-0 1605,-0 1605,-0 1611,-0 1617,-6 1617,-12 1617,-12 1617,-56 1617,-56 1617,-62 1611,-68 1605,-68\"/>\r\n",
       "<text text-anchor=\"middle\" x=\"1568.5\" y=\"-52.8\" font-family=\"Helvetica,sans-Serif\" font-size=\"14.00\">gini = 0.0</text>\r\n",
       "<text text-anchor=\"middle\" x=\"1568.5\" y=\"-37.8\" font-family=\"Helvetica,sans-Serif\" font-size=\"14.00\">samples = 1</text>\r\n",
       "<text text-anchor=\"middle\" x=\"1568.5\" y=\"-22.8\" font-family=\"Helvetica,sans-Serif\" font-size=\"14.00\">value = [0, 1]</text>\r\n",
       "<text text-anchor=\"middle\" x=\"1568.5\" y=\"-7.8\" font-family=\"Helvetica,sans-Serif\" font-size=\"14.00\">class = y[1]</text>\r\n",
       "</g>\r\n",
       "<!-- 25&#45;&gt;26 -->\r\n",
       "<g id=\"edge26\" class=\"edge\"><title>25&#45;&gt;26</title>\r\n",
       "<path fill=\"none\" stroke=\"black\" d=\"M1594.23,-103.726C1591.06,-95.2439 1587.7,-86.2819 1584.5,-77.7312\"/>\r\n",
       "<polygon fill=\"black\" stroke=\"black\" points=\"1587.75,-76.4373 1580.97,-68.2996 1581.2,-78.892 1587.75,-76.4373\"/>\r\n",
       "</g>\r\n",
       "<!-- 27 -->\r\n",
       "<g id=\"node28\" class=\"node\"><title>27</title>\r\n",
       "<path fill=\"#e68844\" stroke=\"black\" d=\"M1728,-68C1728,-68 1647,-68 1647,-68 1641,-68 1635,-62 1635,-56 1635,-56 1635,-12 1635,-12 1635,-6 1641,-0 1647,-0 1647,-0 1728,-0 1728,-0 1734,-0 1740,-6 1740,-12 1740,-12 1740,-56 1740,-56 1740,-62 1734,-68 1728,-68\"/>\r\n",
       "<text text-anchor=\"middle\" x=\"1687.5\" y=\"-52.8\" font-family=\"Helvetica,sans-Serif\" font-size=\"14.00\">gini = 0.103</text>\r\n",
       "<text text-anchor=\"middle\" x=\"1687.5\" y=\"-37.8\" font-family=\"Helvetica,sans-Serif\" font-size=\"14.00\">samples = 55</text>\r\n",
       "<text text-anchor=\"middle\" x=\"1687.5\" y=\"-22.8\" font-family=\"Helvetica,sans-Serif\" font-size=\"14.00\">value = [52, 3]</text>\r\n",
       "<text text-anchor=\"middle\" x=\"1687.5\" y=\"-7.8\" font-family=\"Helvetica,sans-Serif\" font-size=\"14.00\">class = y[0]</text>\r\n",
       "</g>\r\n",
       "<!-- 25&#45;&gt;27 -->\r\n",
       "<g id=\"edge27\" class=\"edge\"><title>25&#45;&gt;27</title>\r\n",
       "<path fill=\"none\" stroke=\"black\" d=\"M1638.54,-103.726C1644.85,-94.879 1651.52,-85.51 1657.85,-76.6303\"/>\r\n",
       "<polygon fill=\"black\" stroke=\"black\" points=\"1660.83,-78.4751 1663.78,-68.2996 1655.13,-74.4138 1660.83,-78.4751\"/>\r\n",
       "</g>\r\n",
       "<!-- 29 -->\r\n",
       "<g id=\"node30\" class=\"node\"><title>29</title>\r\n",
       "<path fill=\"#a3d1f3\" stroke=\"black\" d=\"M1859,-68C1859,-68 1770,-68 1770,-68 1764,-68 1758,-62 1758,-56 1758,-56 1758,-12 1758,-12 1758,-6 1764,-0 1770,-0 1770,-0 1859,-0 1859,-0 1865,-0 1871,-6 1871,-12 1871,-12 1871,-56 1871,-56 1871,-62 1865,-68 1859,-68\"/>\r\n",
       "<text text-anchor=\"middle\" x=\"1814.5\" y=\"-52.8\" font-family=\"Helvetica,sans-Serif\" font-size=\"14.00\">gini = 0.454</text>\r\n",
       "<text text-anchor=\"middle\" x=\"1814.5\" y=\"-37.8\" font-family=\"Helvetica,sans-Serif\" font-size=\"14.00\">samples = 46</text>\r\n",
       "<text text-anchor=\"middle\" x=\"1814.5\" y=\"-22.8\" font-family=\"Helvetica,sans-Serif\" font-size=\"14.00\">value = [16, 30]</text>\r\n",
       "<text text-anchor=\"middle\" x=\"1814.5\" y=\"-7.8\" font-family=\"Helvetica,sans-Serif\" font-size=\"14.00\">class = y[1]</text>\r\n",
       "</g>\r\n",
       "<!-- 28&#45;&gt;29 -->\r\n",
       "<g id=\"edge29\" class=\"edge\"><title>28&#45;&gt;29</title>\r\n",
       "<path fill=\"none\" stroke=\"black\" d=\"M1814.5,-103.726C1814.5,-95.5175 1814.5,-86.8595 1814.5,-78.56\"/>\r\n",
       "<polygon fill=\"black\" stroke=\"black\" points=\"1818,-78.2996 1814.5,-68.2996 1811,-78.2996 1818,-78.2996\"/>\r\n",
       "</g>\r\n",
       "<!-- 30 -->\r\n",
       "<g id=\"node31\" class=\"node\"><title>30</title>\r\n",
       "<path fill=\"#eb9f68\" stroke=\"black\" d=\"M1982,-68C1982,-68 1901,-68 1901,-68 1895,-68 1889,-62 1889,-56 1889,-56 1889,-12 1889,-12 1889,-6 1895,-0 1901,-0 1901,-0 1982,-0 1982,-0 1988,-0 1994,-6 1994,-12 1994,-12 1994,-56 1994,-56 1994,-62 1988,-68 1982,-68\"/>\r\n",
       "<text text-anchor=\"middle\" x=\"1941.5\" y=\"-52.8\" font-family=\"Helvetica,sans-Serif\" font-size=\"14.00\">gini = 0.311</text>\r\n",
       "<text text-anchor=\"middle\" x=\"1941.5\" y=\"-37.8\" font-family=\"Helvetica,sans-Serif\" font-size=\"14.00\">samples = 26</text>\r\n",
       "<text text-anchor=\"middle\" x=\"1941.5\" y=\"-22.8\" font-family=\"Helvetica,sans-Serif\" font-size=\"14.00\">value = [21, 5]</text>\r\n",
       "<text text-anchor=\"middle\" x=\"1941.5\" y=\"-7.8\" font-family=\"Helvetica,sans-Serif\" font-size=\"14.00\">class = y[0]</text>\r\n",
       "</g>\r\n",
       "<!-- 28&#45;&gt;30 -->\r\n",
       "<g id=\"edge30\" class=\"edge\"><title>28&#45;&gt;30</title>\r\n",
       "<path fill=\"none\" stroke=\"black\" d=\"M1861.79,-103.726C1872.69,-94.3318 1884.26,-84.349 1895.12,-74.9883\"/>\r\n",
       "<polygon fill=\"black\" stroke=\"black\" points=\"1897.59,-77.4804 1902.88,-68.2996 1893.02,-72.1789 1897.59,-77.4804\"/>\r\n",
       "</g>\r\n",
       "</g>\r\n",
       "</svg>\r\n"
      ],
      "text/plain": [
       "<graphviz.files.Source at 0x2b21867d5c8>"
      ]
     },
     "execution_count": 40,
     "metadata": {},
     "output_type": "execute_result"
    }
   ],
   "source": [
    "#Visualization\n",
    "\n",
    "import os\n",
    "from sklearn.tree import export_graphviz\n",
    "# We need to locate graphiz directory for visualization (after conda)\n",
    "os.environ[\"PATH\"] += ';' + r'C:\\Users\\user\\anaconda3\\Library\\bin\\graphviz'\n",
    "\n",
    "import graphviz\n",
    "\n",
    "dot_data = export_graphviz(clf, out_file=None,\n",
    "                     feature_names=x.columns,\n",
    "                     class_names= True,\n",
    "                     filled=True, rounded=True)\n",
    "graph = graphviz.Source(dot_data)\n",
    "graph"
   ]
  },
  {
   "cell_type": "code",
   "execution_count": 41,
   "metadata": {},
   "outputs": [
    {
     "data": {
      "image/png": "[encoded data removed]",
      "text/plain": [
       "<Figure size 864x576 with 1 Axes>"
      ]
     },
     "metadata": {},
     "output_type": "display_data"
    }
   ],
   "source": [
    "#Feature Importance\n",
    "plt.figure(figsize=(12, 8))\n",
    "importance = clf.feature_importances_\n",
    "sns.barplot(x=importance, y=x.columns)\n",
    "plt.show()"
   ]
  },
  {
   "cell_type": "code",
   "execution_count": 42,
   "metadata": {},
   "outputs": [
    {
     "data": {
      "text/plain": [
       "array([0.00094531, 0.08973712, 0.        , 0.32802646, 0.1766271 ,\n",
       "       0.        , 0.32324177, 0.00992528, 0.07149697])"
      ]
     },
     "execution_count": 42,
     "metadata": {},
     "output_type": "execute_result"
    }
   ],
   "source": [
    "importance"
   ]
  },
  {
   "cell_type": "code",
   "execution_count": 43,
   "metadata": {},
   "outputs": [
    {
     "name": "stdout",
     "output_type": "stream",
     "text": [
      "              precision    recall  f1-score   support\n",
      "\n",
      "           0       0.93      0.99      0.96       950\n",
      "           1       0.88      0.51      0.65       150\n",
      "\n",
      "    accuracy                           0.92      1100\n",
      "   macro avg       0.90      0.75      0.80      1100\n",
      "weighted avg       0.92      0.92      0.91      1100\n",
      "\n"
     ]
    }
   ],
   "source": [
    "from sklearn.metrics import precision_score, recall_score, accuracy_score, classification_report, f1_score\n",
    "pred = clf.predict(X_test)\n",
    "print(classification_report(y_test,pred))"
   ]
  },
  {
   "cell_type": "code",
   "execution_count": 44,
   "metadata": {},
   "outputs": [
    {
     "name": "stdout",
     "output_type": "stream",
     "text": [
      "Precision = 0.9014328063241106\n",
      "Recall = 0.7508771929824561\n",
      "Accuracy = 0.9236363636363636\n",
      "F1 Score = 0.8021226839359598\n"
     ]
    }
   ],
   "source": [
    "print(\"Precision = {}\".format(precision_score(y_test, pred, average='macro')))\n",
    "print(\"Recall = {}\".format(recall_score(y_test, pred, average='macro')))\n",
    "print(\"Accuracy = {}\".format(accuracy_score(y_test, pred)))\n",
    "print(\"F1 Score = {}\".format(f1_score(y_test, pred,average='macro')))"
   ]
  },
  {
   "cell_type": "code",
   "execution_count": 45,
   "metadata": {},
   "outputs": [
    {
     "data": {
      "text/plain": [
       "([<matplotlib.axis.XTick at 0x2b21842eb88>,\n",
       "  <matplotlib.axis.XTick at 0x2b21842b808>],\n",
       " <a list of 2 Text xticklabel objects>)"
      ]
     },
     "execution_count": 45,
     "metadata": {},
     "output_type": "execute_result"
    },
    {
     "data": {
      "image/png": "[encoded data removed]",
      "text/plain": [
       "<Figure size 504x432 with 2 Axes>"
      ]
     },
     "metadata": {},
     "output_type": "display_data"
    }
   ],
   "source": [
    "from sklearn.metrics import confusion_matrix\n",
    "\n",
    "cm = confusion_matrix(y_test, pred)\n",
    "# Create heatmap from the confusion matrix\n",
    "class_names=[False,True] \n",
    "tick_marks = [0.5, 1.5]\n",
    "fig, ax = plt.subplots(figsize=(7, 6))\n",
    "sns.heatmap(pd.DataFrame(cm), annot=True, cmap=\"Blues\", fmt='g')\n",
    "ax.xaxis.set_label_position(\"top\")\n",
    "plt.tight_layout()\n",
    "plt.title('Confusion matrix')\n",
    "plt.ylabel('Actual label'); plt.xlabel('Predicted label')\n",
    "plt.yticks(tick_marks, class_names); plt.xticks(tick_marks, class_names)"
   ]
  },
  {
   "cell_type": "markdown",
   "metadata": {},
   "source": [
    "# XGBoost"
   ]
  },
  {
   "cell_type": "code",
   "execution_count": 46,
   "metadata": {},
   "outputs": [],
   "source": [
    "import xgboost as xgb"
   ]
  },
  {
   "cell_type": "code",
   "execution_count": 47,
   "metadata": {},
   "outputs": [],
   "source": [
    "dmatrix_train = xgb.DMatrix(data=X_train, label=y_train)\n",
    "dmatrix_test = xgb.DMatrix(data=X_test, label=y_test)"
   ]
  },
  {
   "cell_type": "code",
   "execution_count": 48,
   "metadata": {},
   "outputs": [],
   "source": [
    "param = {'max_depth':3, \n",
    "         'eta':1, \n",
    "         'objective':'multi:softprob', \n",
    "         'num_class':3}\n",
    "\n",
    "num_round = 5\n",
    "model = xgb.train(param, dmatrix_train, num_round)"
   ]
  },
  {
   "cell_type": "code",
   "execution_count": 49,
   "metadata": {},
   "outputs": [
    {
     "data": {
      "text/plain": [
       "array([[0.08928722, 0.90347624, 0.00723655],\n",
       "       [0.9667116 , 0.02851957, 0.00476884],\n",
       "       [0.97751176, 0.01869989, 0.00378834],\n",
       "       [0.97267014, 0.02253157, 0.00479823],\n",
       "       [0.97267014, 0.02253157, 0.00479823],\n",
       "       [0.96438193, 0.03038002, 0.00523801],\n",
       "       [0.738974  , 0.24729533, 0.01373072],\n",
       "       [0.95341015, 0.04075262, 0.00583719],\n",
       "       [0.8358899 , 0.15308152, 0.01102857],\n",
       "       [0.97267014, 0.02253157, 0.00479823]], dtype=float32)"
      ]
     },
     "execution_count": 49,
     "metadata": {},
     "output_type": "execute_result"
    }
   ],
   "source": [
    "preds = model.predict(dmatrix_test)\n",
    "preds[:10]"
   ]
  },
  {
   "cell_type": "code",
   "execution_count": 50,
   "metadata": {},
   "outputs": [],
   "source": [
    "best_preds = np.asarray([np.argmax(line) for line in preds])"
   ]
  },
  {
   "cell_type": "code",
   "execution_count": 51,
   "metadata": {},
   "outputs": [
    {
     "data": {
      "text/plain": [
       "array([1, 0, 0, ..., 0, 0, 0], dtype=int64)"
      ]
     },
     "execution_count": 51,
     "metadata": {},
     "output_type": "execute_result"
    }
   ],
   "source": [
    "best_preds"
   ]
  },
  {
   "cell_type": "markdown",
   "metadata": {},
   "source": [
    "# Metrics"
   ]
  },
  {
   "cell_type": "code",
   "execution_count": 52,
   "metadata": {},
   "outputs": [
    {
     "name": "stdout",
     "output_type": "stream",
     "text": [
      "Precision = 0.9152272123305873\n",
      "Recall = 0.8070175438596492\n",
      "Accuracy = 0.9381818181818182\n"
     ]
    }
   ],
   "source": [
    "print(\"Precision = {}\".format(precision_score(y_test, best_preds, average='macro')))\n",
    "print(\"Recall = {}\".format(recall_score(y_test, best_preds, average='macro')))\n",
    "print(\"Accuracy = {}\".format(accuracy_score(y_test, best_preds)))"
   ]
  },
  {
   "cell_type": "code",
   "execution_count": 53,
   "metadata": {},
   "outputs": [
    {
     "data": {
      "text/plain": [
       "([<matplotlib.axis.XTick at 0x2b218728048>,\n",
       "  <matplotlib.axis.XTick at 0x2b2189c8108>],\n",
       " <a list of 2 Text xticklabel objects>)"
      ]
     },
     "execution_count": 53,
     "metadata": {},
     "output_type": "execute_result"
    },
    {
     "data": {
      "text/plain": [
       "<Figure size 864x576 with 0 Axes>"
      ]
     },
     "metadata": {},
     "output_type": "display_data"
    },
    {
     "data": {
      "image/png": "[encoded data removed]",
      "text/plain": [
       "<Figure size 504x432 with 2 Axes>"
      ]
     },
     "metadata": {},
     "output_type": "display_data"
    }
   ],
   "source": [
    "from sklearn.metrics import confusion_matrix\n",
    "\n",
    "plt.figure(figsize=(12, 8))\n",
    "cm = confusion_matrix(y_test, best_preds)\n",
    "# Create heatmap from the confusion matrix\n",
    "class_names=[False,True] \n",
    "tick_marks = [0.5, 1.5]\n",
    "fig, ax = plt.subplots(figsize=(7, 6))\n",
    "sns.heatmap(pd.DataFrame(cm), annot=True, cmap=\"Blues\", fmt='g')\n",
    "ax.xaxis.set_label_position(\"top\")\n",
    "plt.tight_layout()\n",
    "plt.title('Confusion matrix')\n",
    "plt.ylabel('Actual label'); plt.xlabel('Predicted label')\n",
    "plt.yticks(tick_marks, class_names); plt.xticks(tick_marks, class_names)"
   ]
  },
  {
   "cell_type": "code",
   "execution_count": null,
   "metadata": {},
   "outputs": [],
   "source": [
    "## Hyperparameter Tuning\n",
    "\n",
    "from xgboost.sklearn import XGBClassifier\n",
    "from sklearn.model_selection import GridSearchCV, RandomizedSearchCV  \n",
    "\n",
    "param_dict = {\n",
    "    'max_depth':range(3,10,2),\n",
    "    'min_child_weight':range(1,6,2),\n",
    "    'learning_rate': [0.001,0.01,0.1,1],\n",
    "    'n_estimators': [190,200,210,500,1000]\n",
    "    \n",
    "}\n",
    "\n",
    "xgc = XGBClassifier(booster='gbtree', learning_rate =0.01, n_estimators=200, max_depth=5,num_class=2,\n",
    " min_child_weight=1, gamma=0, subsample=0.8, colsample_bytree=0.8,\n",
    " objective= 'multi:softprob', nthread=4, scale_pos_weight=1, seed=27)\n",
    "\n",
    "clf = GridSearchCV(xgc,param_dict,cv=3,n_jobs = -1).fit(X_train,y_train)\n",
    "\n",
    "print(\"Tuned: {}\".format(clf.best_params_)) \n",
    "print(\"Mean of the cv scores is {:.6f}\".format(clf.best_score_))\n",
    "print(\"Train Score {:.6f}\".format(clf.score(X_train,y_train)))\n",
    "print(\"Test Score {:.6f}\".format(clf.score(X_test,y_test)))\n",
    "print(\"Seconds used for refitting the best model on the train dataset: {:.6f}\".format(clf.refit_time_))"
   ]
  },
  {
   "cell_type": "code",
   "execution_count": null,
   "metadata": {},
   "outputs": [],
   "source": [
    "from sklearn.metrics import confusion_matrix\n",
    "xgb_pred = clf.predict(X_test)\n",
    "\n",
    "plt.figure(figsize=(12, 8))\n",
    "cm = confusion_matrix(y_test,xgb_pred)\n",
    "# Create heatmap from the confusion matrix\n",
    "class_names=[False,True] \n",
    "tick_marks = [0.5, 1.5]\n",
    "fig, ax = plt.subplots(figsize=(7, 6))\n",
    "sns.heatmap(pd.DataFrame(cm), annot=True, cmap=\"Blues\", fmt='g')\n",
    "ax.xaxis.set_label_position(\"top\")\n",
    "plt.tight_layout()\n",
    "plt.title('Confusion matrix')\n",
    "plt.ylabel('Actual label'); plt.xlabel('Predicted label')\n",
    "plt.yticks(tick_marks, class_names); plt.xticks(tick_marks, class_names)"
   ]
  },
  {
   "cell_type": "markdown",
   "metadata": {},
   "source": [
    "# Which Model performed best "
   ]
  },
  {
   "cell_type": "raw",
   "metadata": {},
   "source": [
    "From the above models we can estimate that XGBoost performed most well . Logistic regression performed the least . As it's precision is much lower and even after scalling and removing outliers ,it overfits the model . Whereas Decision tree performed very good also with a 92.4% test-score and accuracy with 90% . But the model that performed the best after hyperparameter tuning is XGBoost."
   ]
  }
 ],
 "metadata": {
  "kernelspec": {
   "display_name": "Python 3",
   "language": "python",
   "name": "python3"
  },
  "language_info": {
   "codemirror_mode": {
    "name": "ipython",
    "version": 3
   },
   "file_extension": ".py",
   "mimetype": "text/x-python",
   "name": "python",
   "nbconvert_exporter": "python",
   "pygments_lexer": "ipython3",
   "version": "3.7.6"
  }
 },
 "nbformat": 4,
 "nbformat_minor": 4
}
